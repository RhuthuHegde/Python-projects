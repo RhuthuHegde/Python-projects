{
  "nbformat": 4,
  "nbformat_minor": 0,
  "metadata": {
    "kernelspec": {
      "display_name": "Python 3",
      "language": "python",
      "name": "python3"
    },
    "language_info": {
      "codemirror_mode": {
        "name": "ipython",
        "version": 3
      },
      "file_extension": ".py",
      "mimetype": "text/x-python",
      "name": "python",
      "nbconvert_exporter": "python",
      "pygments_lexer": "ipython3",
      "version": "3.8.5"
    },
    "colab": {
      "name": "python-practice-assignment.ipynb",
      "provenance": [],
      "collapsed_sections": [
        "S0a-RIijnhUD",
        "rLIBM41FnhVB"
      ],
      "include_colab_link": true
    }
  },
  "cells": [
    {
      "cell_type": "markdown",
      "metadata": {
        "id": "view-in-github",
        "colab_type": "text"
      },
      "source": [
        "<a href=\"https://colab.research.google.com/github/RhuthuHegde/Python-projects/blob/master/python_practice_assignment.ipynb\" target=\"_parent\"><img src=\"https://colab.research.google.com/assets/colab-badge.svg\" alt=\"Open In Colab\"/></a>"
      ]
    },
    {
      "cell_type": "code",
      "metadata": {
        "id": "WBMq2ymknhSU",
        "colab_type": "code",
        "colab": {
          "base_uri": "https://localhost:8080/",
          "height": 51
        },
        "outputId": "f5d956b8-539a-4216-86de-c6d0c2844d04"
      },
      "source": [
        "# Jovian Commit Essentials\n",
        "# Please retain and execute this cell without modifying the contents for `jovian.commit` to work\n",
        "!pip install jovian --upgrade -q\n",
        "import jovian\n",
        "jovian.utils.colab.set_colab_file_id('1mCW51Rv2jveFfpvii89gd8tmyJY5qvua')"
      ],
      "execution_count": null,
      "outputs": [
        {
          "output_type": "stream",
          "text": [
            "\u001b[?25l\r\u001b[K     |█████                           | 10kB 21.1MB/s eta 0:00:01\r\u001b[K     |██████████▏                     | 20kB 1.8MB/s eta 0:00:01\r\u001b[K     |███████████████▏                | 30kB 2.3MB/s eta 0:00:01\r\u001b[K     |████████████████████▎           | 40kB 2.6MB/s eta 0:00:01\r\u001b[K     |█████████████████████████▎      | 51kB 2.0MB/s eta 0:00:01\r\u001b[K     |██████████████████████████████▍ | 61kB 2.3MB/s eta 0:00:01\r\u001b[K     |████████████████████████████████| 71kB 2.0MB/s \n",
            "\u001b[?25h  Building wheel for uuid (setup.py) ... \u001b[?25l\u001b[?25hdone\n"
          ],
          "name": "stdout"
        }
      ]
    },
    {
      "cell_type": "markdown",
      "metadata": {
        "id": "CkTyhxefnhSk",
        "colab_type": "text"
      },
      "source": [
        "# Assignment 1 - Python Basics Practice\n",
        "\n",
        "*This assignment is a part of the course [\"Data Analysis with Python: Zero to Pandas\"](https://jovian.ml/learn/data-analysis-with-python-zero-to-pandas)*\n",
        "\n",
        "In this assignment, you'll get to practice some of the concepts and skills covered in the following notebooks:\n",
        "\n",
        "1. [First Steps with Python and Jupyter](https://jovian.ml/aakashns/first-steps-with-python)\n",
        "2. [A Quick Tour of Variables and Data Types](https://jovian.ml/aakashns/python-variables-and-data-types)\n",
        "3. [Branching using Conditional Statements and Loops](https://jovian.ml/aakashns/python-branching-and-loops)\n",
        "\n",
        "As you go through this notebook, you will find a **???** in certain places. To complete this assignment, you must replace all the **???** with appropriate values, expressions or statements to ensure that the notebook runs properly end-to-end. \n",
        "\n",
        "Some things to keep in mind:\n",
        "\n",
        "* Make sure to run all the code cells, otherwise you may get errors like `NameError` for undefined variables.\n",
        "* Do not change variable names, delete cells or disturb other existing code. It may cause problems during evaluation.\n",
        "* In some cases, you may need to add some code cells or new statements before or after the line of code containing the **???**. \n",
        "* Since you'll be using a temporary online service for code execution, save your work by running `jovian.commit` at regular intervals.\n",
        "* Questions marked **(Optional)** will not be considered for evaluation, and can be skipped. They are for your learning.\n",
        "\n",
        "You can make submissions on this page: https://jovian.ml/learn/data-analysis-with-python-zero-to-pandas/assignment/assignment-1-python-basics-practice\n",
        "\n",
        "If you are stuck, you can ask for help on the community forum: https://jovian.ml/forum/t/assignment-1-python-practice/7761 . You can get help with errors or ask for hints, but **please don't ask for or share the full working answer code** on the forum.\n",
        "\n",
        "\n",
        "## How to run the code and save your work\n",
        "\n",
        "The recommended way to run this notebook is to click the \"Run\" button at the top of this page, and select \"Run on Binder\". This will run the notebook on [mybinder.org](https://mybinder.org), a free online service for running Jupyter notebooks. \n",
        "\n",
        "Before staring the assignment, let's save a snapshot of the assignment to your Jovian.ml profile, so that you can access it later, and continue your work."
      ]
    },
    {
      "cell_type": "code",
      "metadata": {
        "id": "_0YZUZ-fnhSl",
        "colab_type": "code",
        "colab": {}
      },
      "source": [
        "# Install the library\n",
        "!pip install jovian --upgrade --quiet"
      ],
      "execution_count": null,
      "outputs": []
    },
    {
      "cell_type": "code",
      "metadata": {
        "id": "bkRFZEWSnhSs",
        "colab_type": "code",
        "colab": {}
      },
      "source": [
        "# Import it\n",
        "import jovian"
      ],
      "execution_count": null,
      "outputs": []
    },
    {
      "cell_type": "code",
      "metadata": {
        "id": "AAZhpEplnhSx",
        "colab_type": "code",
        "colab": {}
      },
      "source": [
        "project_name='python-practice-assignment'"
      ],
      "execution_count": null,
      "outputs": []
    },
    {
      "cell_type": "code",
      "metadata": {
        "id": "_QPu81d7nhS1",
        "colab_type": "code",
        "colab": {
          "base_uri": "https://localhost:8080/",
          "height": 120
        },
        "outputId": "3ae78b2f-4109-4abe-930f-4e4178d076d0"
      },
      "source": [
        "# Capture and upload a snapshot\n",
        "jovian.commit(project=project_name, privacy='secret', evironment=None,filename='python-practice-assignmnent.ipynb')"
      ],
      "execution_count": null,
      "outputs": [
        {
          "output_type": "stream",
          "text": [
            "[jovian] Detected Colab notebook...\u001b[0m\n",
            "[jovian] Please enter your API key ( from https://jovian.ml/ ):\u001b[0m\n",
            "API KEY: ··········\n",
            "[jovian] Uploading colab notebook to Jovian...\u001b[0m\n",
            "[jovian] Committed successfully! https://jovian.ml/rhuthuhegde/python-practice-assignment\u001b[0m\n"
          ],
          "name": "stdout"
        },
        {
          "output_type": "execute_result",
          "data": {
            "application/vnd.google.colaboratory.intrinsic+json": {
              "type": "string"
            },
            "text/plain": [
              "'https://jovian.ml/rhuthuhegde/python-practice-assignment'"
            ]
          },
          "metadata": {
            "tags": []
          },
          "execution_count": 8
        }
      ]
    },
    {
      "cell_type": "markdown",
      "metadata": {
        "id": "PDx8cfSFnhTA",
        "colab_type": "text"
      },
      "source": [
        "You'll be asked to provide an API Key, to securely upload the notebook to your Jovian.ml account. You can get the API key from your Jovian.ml profile page after logging in / signing up. See the docs for details: https://jovian.ml/docs/user-guide/upload.html . The privacy of your assignment notebook is set to *Secret*, so that you can the evlauators can access it, but it will not shown on your public profile to other users."
      ]
    },
    {
      "cell_type": "markdown",
      "metadata": {
        "id": "6z1eQhG9nhTB",
        "colab_type": "text"
      },
      "source": [
        "## Problem 1 - Variables and Data Types\n",
        "\n",
        "**Q: Assign your name to the variable `name`.**"
      ]
    },
    {
      "cell_type": "code",
      "metadata": {
        "id": "hZSwvj1JnhTB",
        "colab_type": "code",
        "colab": {}
      },
      "source": [
        "name = 'Rhuthu Hegde'"
      ],
      "execution_count": null,
      "outputs": []
    },
    {
      "cell_type": "markdown",
      "metadata": {
        "id": "60AmlfBhnhTF",
        "colab_type": "text"
      },
      "source": [
        "**Q: Assign your age (real or fake) to the variable `age`.**"
      ]
    },
    {
      "cell_type": "code",
      "metadata": {
        "id": "kfHwwkoLnhTI",
        "colab_type": "code",
        "colab": {}
      },
      "source": [
        "age = 20"
      ],
      "execution_count": null,
      "outputs": []
    },
    {
      "cell_type": "markdown",
      "metadata": {
        "id": "44kbEAAinhTT",
        "colab_type": "text"
      },
      "source": [
        "**Q: Assign a boolean value to the variable `has_android_phone`.**"
      ]
    },
    {
      "cell_type": "code",
      "metadata": {
        "id": "0aGfZ8gPnhTV",
        "colab_type": "code",
        "colab": {}
      },
      "source": [
        "has_android_phone = True"
      ],
      "execution_count": null,
      "outputs": []
    },
    {
      "cell_type": "markdown",
      "metadata": {
        "id": "HU-P3a5fnhTd",
        "colab_type": "text"
      },
      "source": [
        "You can check the values of these variables by running the next cell."
      ]
    },
    {
      "cell_type": "code",
      "metadata": {
        "id": "vZnlcclMnhTf",
        "colab_type": "code",
        "colab": {
          "base_uri": "https://localhost:8080/",
          "height": 34
        },
        "outputId": "c8b7deb0-efc8-47a5-ccdf-5eab9370f039"
      },
      "source": [
        "name, age, has_android_phone"
      ],
      "execution_count": null,
      "outputs": [
        {
          "output_type": "execute_result",
          "data": {
            "text/plain": [
              "('Rhuthu Hegde', 20, True)"
            ]
          },
          "metadata": {
            "tags": []
          },
          "execution_count": 14
        }
      ]
    },
    {
      "cell_type": "markdown",
      "metadata": {
        "id": "U_C5f_jinhTk",
        "colab_type": "text"
      },
      "source": [
        "**Q: Create a dictionary `person` with keys `\"Name\"`, `\"Age\"`, `\"HasAndroidPhone\"` and values using the variables defined above.**"
      ]
    },
    {
      "cell_type": "code",
      "metadata": {
        "id": "4g2Qc2nEnhTl",
        "colab_type": "code",
        "colab": {}
      },
      "source": [
        "person = {'Name':name,'Age':age,'HasAndroidPhone':has_android_phone}"
      ],
      "execution_count": null,
      "outputs": []
    },
    {
      "cell_type": "markdown",
      "metadata": {
        "id": "QQycWfN9nhTp",
        "colab_type": "text"
      },
      "source": [
        "Let's use the `person` dictionary to print a nice message."
      ]
    },
    {
      "cell_type": "code",
      "metadata": {
        "id": "uIay3K3HnhTu",
        "colab_type": "code",
        "colab": {
          "base_uri": "https://localhost:8080/",
          "height": 34
        },
        "outputId": "4eace24b-c3f3-4952-88fc-9a011a3acece"
      },
      "source": [
        "print(\"{} is aged {}, and owns an {}.\".format(\n",
        "    person[\"Name\"], \n",
        "    person[\"Age\"], \n",
        "    \"Android phone\" if person[\"HasAndroidPhone\"] else \"iPhone\"\n",
        "))"
      ],
      "execution_count": null,
      "outputs": [
        {
          "output_type": "stream",
          "text": [
            "Rhuthu Hegde is aged 20, and owns an Android phone.\n"
          ],
          "name": "stdout"
        }
      ]
    },
    {
      "cell_type": "markdown",
      "metadata": {
        "id": "LNb_Idd2nhTy",
        "colab_type": "text"
      },
      "source": [
        "**Q (Optional): Use a `for` loop to display the `type` of each value stored against each key in `person`.**\n",
        "\n",
        "Here's the expected output for the key `\"Name\"`: \n",
        "\n",
        "```\n",
        "The key \"Name\" has the value \"Derek\" of the type \"<class 'str'>\"\n",
        "```"
      ]
    },
    {
      "cell_type": "code",
      "metadata": {
        "id": "odnAzWnRnhTz",
        "colab_type": "code",
        "colab": {
          "base_uri": "https://localhost:8080/",
          "height": 68
        },
        "outputId": "e7ed5c16-4754-4a93-fce9-45a60ac613a8"
      },
      "source": [
        "# this is optional\n",
        "for i in person:\n",
        "  print('The key \"{}\" has the value \"{}\" of the type \"{}\"'.format(i,person[i],type(person[i])))\n"
      ],
      "execution_count": null,
      "outputs": [
        {
          "output_type": "stream",
          "text": [
            "The key \"Name\" has the value \"Rhuthu Hegde\" of the type \"<class 'str'>\"\n",
            "The key \"Age\" has the value \"20\" of the type \"<class 'int'>\"\n",
            "The key \"HasAndroidPhone\" has the value \"True\" of the type \"<class 'bool'>\"\n"
          ],
          "name": "stdout"
        }
      ]
    },
    {
      "cell_type": "markdown",
      "metadata": {
        "id": "j4g9f4YmnhT3",
        "colab_type": "text"
      },
      "source": [
        "Now that you've solved one problem, it would be a good idea to record a snapshot of your notebook."
      ]
    },
    {
      "cell_type": "code",
      "metadata": {
        "id": "1Fy2zF2znhT3",
        "colab_type": "code",
        "colab": {
          "base_uri": "https://localhost:8080/",
          "height": 86
        },
        "outputId": "8fdd508b-64f7-4186-9adb-bf4ab54b458d"
      },
      "source": [
        "jovian.commit(project=project_name,environment=None)"
      ],
      "execution_count": null,
      "outputs": [
        {
          "output_type": "stream",
          "text": [
            "[jovian] Detected Colab notebook...\u001b[0m\n",
            "[jovian] Uploading colab notebook to Jovian...\u001b[0m\n",
            "[jovian] Committed successfully! https://jovian.ml/rhuthuhegde/python-practice-assignment\u001b[0m\n"
          ],
          "name": "stdout"
        },
        {
          "output_type": "execute_result",
          "data": {
            "application/vnd.google.colaboratory.intrinsic+json": {
              "type": "string"
            },
            "text/plain": [
              "'https://jovian.ml/rhuthuhegde/python-practice-assignment'"
            ]
          },
          "metadata": {
            "tags": []
          },
          "execution_count": 21
        }
      ]
    },
    {
      "cell_type": "markdown",
      "metadata": {
        "id": "S0a-RIijnhUD",
        "colab_type": "text"
      },
      "source": [
        "## Problem 2 - Working with Lists\n",
        "\n",
        "**Q: Create a list containing the following 3 elements:**\n",
        "\n",
        "* your favorite color\n",
        "* the number of pets you have\n",
        "* a boolean value describing whether you have previous programming experience\n"
      ]
    },
    {
      "cell_type": "code",
      "metadata": {
        "id": "GtQQ64XBnhUE",
        "colab_type": "code",
        "colab": {}
      },
      "source": [
        "my_list = ['blue',0,True]"
      ],
      "execution_count": null,
      "outputs": []
    },
    {
      "cell_type": "markdown",
      "metadata": {
        "id": "caaRlfLunhUJ",
        "colab_type": "text"
      },
      "source": [
        "Let's see what the list looks like:"
      ]
    },
    {
      "cell_type": "code",
      "metadata": {
        "id": "QvSzGwUanhUK",
        "colab_type": "code",
        "colab": {
          "base_uri": "https://localhost:8080/",
          "height": 34
        },
        "outputId": "595494d6-7870-4dc3-e89e-951e7aef18f2"
      },
      "source": [
        "my_list"
      ],
      "execution_count": null,
      "outputs": [
        {
          "output_type": "execute_result",
          "data": {
            "text/plain": [
              "['blue', 0, True]"
            ]
          },
          "metadata": {
            "tags": []
          },
          "execution_count": 25
        }
      ]
    },
    {
      "cell_type": "markdown",
      "metadata": {
        "id": "YXta-mD1nhUP",
        "colab_type": "text"
      },
      "source": [
        "**Q: Complete the following `print` and `if` statements by accessing the appropriate elements from `my_list`.**\n",
        "\n",
        "*Hint*: Use the list indexing notation `[]`."
      ]
    },
    {
      "cell_type": "code",
      "metadata": {
        "id": "2H8Ge1h9nhUQ",
        "colab_type": "code",
        "colab": {
          "base_uri": "https://localhost:8080/",
          "height": 34
        },
        "outputId": "d951dab2-2396-4b54-9026-e302662a904c"
      },
      "source": [
        "print('My favorite color is',my_list[0])"
      ],
      "execution_count": null,
      "outputs": [
        {
          "output_type": "stream",
          "text": [
            "My favorite color is blue\n"
          ],
          "name": "stdout"
        }
      ]
    },
    {
      "cell_type": "code",
      "metadata": {
        "id": "Dq0ib8tqnhUU",
        "colab_type": "code",
        "colab": {
          "base_uri": "https://localhost:8080/",
          "height": 34
        },
        "outputId": "832c7771-14ce-4851-ad50-9dfb70cb24c2"
      },
      "source": [
        "print('I have {} pet(s).'.format(my_list[1]))"
      ],
      "execution_count": null,
      "outputs": [
        {
          "output_type": "stream",
          "text": [
            "I have 0 pet(s).\n"
          ],
          "name": "stdout"
        }
      ]
    },
    {
      "cell_type": "code",
      "metadata": {
        "id": "jEBYYm3-nhUX",
        "colab_type": "code",
        "colab": {
          "base_uri": "https://localhost:8080/",
          "height": 34
        },
        "outputId": "d1ec8650-89eb-4f94-8e87-3e0de302a6f4"
      },
      "source": [
        "if my_list[2]:\n",
        "    print(\"I have previous programming experience\")\n",
        "else:\n",
        "    print(\"I do not have previous programming experience\")"
      ],
      "execution_count": null,
      "outputs": [
        {
          "output_type": "stream",
          "text": [
            "I have previous programming experience\n"
          ],
          "name": "stdout"
        }
      ]
    },
    {
      "cell_type": "markdown",
      "metadata": {
        "id": "KxcixgX-nhUc",
        "colab_type": "text"
      },
      "source": [
        "**Q: Add your favorite single digit number to the end of the list using the appropriate list method.**"
      ]
    },
    {
      "cell_type": "code",
      "metadata": {
        "id": "VA_GOLiZnhUd",
        "colab_type": "code",
        "colab": {}
      },
      "source": [
        "my_list.append(9)"
      ],
      "execution_count": null,
      "outputs": []
    },
    {
      "cell_type": "markdown",
      "metadata": {
        "id": "m9N5NhUwnhUi",
        "colab_type": "text"
      },
      "source": [
        "Let's see if the number shows up in the list."
      ]
    },
    {
      "cell_type": "code",
      "metadata": {
        "id": "S3TJuG-7nhUj",
        "colab_type": "code",
        "colab": {
          "base_uri": "https://localhost:8080/",
          "height": 34
        },
        "outputId": "2230d1f2-eccd-4551-e1d5-a2c4b4183096"
      },
      "source": [
        "my_list"
      ],
      "execution_count": null,
      "outputs": [
        {
          "output_type": "execute_result",
          "data": {
            "text/plain": [
              "['blue', 0, True, 9]"
            ]
          },
          "metadata": {
            "tags": []
          },
          "execution_count": 37
        }
      ]
    },
    {
      "cell_type": "markdown",
      "metadata": {
        "id": "t7lZn_q_nhUm",
        "colab_type": "text"
      },
      "source": [
        "**Q: Remove the first element of the list, using the appropriate list method.**\n",
        "\n",
        "*Hint*: Check out methods of list here: https://www.w3schools.com/python/python_ref_list.asp"
      ]
    },
    {
      "cell_type": "code",
      "metadata": {
        "id": "mcgF0MfGnhUn",
        "colab_type": "code",
        "colab": {
          "base_uri": "https://localhost:8080/",
          "height": 35
        },
        "outputId": "b7ca327a-a1fb-4258-9b0e-73daff74243a"
      },
      "source": [
        "my_list.pop(0)"
      ],
      "execution_count": null,
      "outputs": [
        {
          "output_type": "execute_result",
          "data": {
            "application/vnd.google.colaboratory.intrinsic+json": {
              "type": "string"
            },
            "text/plain": [
              "'blue'"
            ]
          },
          "metadata": {
            "tags": []
          },
          "execution_count": 38
        }
      ]
    },
    {
      "cell_type": "code",
      "metadata": {
        "id": "C4hNSgiAnhUt",
        "colab_type": "code",
        "colab": {
          "base_uri": "https://localhost:8080/",
          "height": 34
        },
        "outputId": "d34395e5-0a01-465b-803e-fa176e7abfee"
      },
      "source": [
        "my_list"
      ],
      "execution_count": null,
      "outputs": [
        {
          "output_type": "execute_result",
          "data": {
            "text/plain": [
              "[0, True, 9]"
            ]
          },
          "metadata": {
            "tags": []
          },
          "execution_count": 39
        }
      ]
    },
    {
      "cell_type": "markdown",
      "metadata": {
        "id": "9auLzea-nhUz",
        "colab_type": "text"
      },
      "source": [
        "**Q: Complete the `print` statement below to display the number of elements in `my_list`.**"
      ]
    },
    {
      "cell_type": "code",
      "metadata": {
        "id": "cCNCNt1EnhU0",
        "colab_type": "code",
        "colab": {
          "base_uri": "https://localhost:8080/",
          "height": 34
        },
        "outputId": "fa668f73-363f-43c1-924f-d3594976a2b0"
      },
      "source": [
        "print(\"The list has {} elements.\".format(len(my_list)))"
      ],
      "execution_count": null,
      "outputs": [
        {
          "output_type": "stream",
          "text": [
            "The list has 3 elements.\n"
          ],
          "name": "stdout"
        }
      ]
    },
    {
      "cell_type": "markdown",
      "metadata": {
        "id": "f9gnWzHDnhU6",
        "colab_type": "text"
      },
      "source": [
        "Well done, you're making good progress! Save your work before continuing"
      ]
    },
    {
      "cell_type": "code",
      "metadata": {
        "id": "sMOWC7PpnhU7",
        "colab_type": "code",
        "colab": {
          "base_uri": "https://localhost:8080/",
          "height": 86
        },
        "outputId": "d6a796b0-8755-4c95-9604-eda9b2c1b1e3"
      },
      "source": [
        "jovian.commit(project=project_name,environment=None)"
      ],
      "execution_count": null,
      "outputs": [
        {
          "output_type": "stream",
          "text": [
            "[jovian] Detected Colab notebook...\u001b[0m\n",
            "[jovian] Uploading colab notebook to Jovian...\u001b[0m\n",
            "[jovian] Committed successfully! https://jovian.ml/rhuthuhegde/python-practice-assignment\u001b[0m\n"
          ],
          "name": "stdout"
        },
        {
          "output_type": "execute_result",
          "data": {
            "application/vnd.google.colaboratory.intrinsic+json": {
              "type": "string"
            },
            "text/plain": [
              "'https://jovian.ml/rhuthuhegde/python-practice-assignment'"
            ]
          },
          "metadata": {
            "tags": []
          },
          "execution_count": 41
        }
      ]
    },
    {
      "cell_type": "markdown",
      "metadata": {
        "id": "rLIBM41FnhVB",
        "colab_type": "text"
      },
      "source": [
        "## Problem 3 - Conditions and loops\n",
        "\n",
        "**Q: Calculate and display the sum of all the numbers divisible by 7 between 18 and 534 i.e. `21+28+35+...+525+532`**.\n",
        "\n",
        "*Hint*: One way to do this is to loop over a `range` using `for` and use an `if` statement inside it."
      ]
    },
    {
      "cell_type": "code",
      "metadata": {
        "id": "X9snizvQnhVD",
        "colab_type": "code",
        "colab": {}
      },
      "source": [
        "# store the final answer in this variable\n",
        "sum_of_numbers = 0\n",
        "\n",
        "# perform the calculation here\n",
        "for i in range(18,534):\n",
        "  if(i%7==0):\n",
        "    sum_of_numbers=sum_of_numbers+i"
      ],
      "execution_count": null,
      "outputs": []
    },
    {
      "cell_type": "code",
      "metadata": {
        "id": "wi84mxDXnhVI",
        "colab_type": "code",
        "colab": {
          "base_uri": "https://localhost:8080/",
          "height": 34
        },
        "outputId": "22af4a96-e0fa-45e0-d6a1-cbdf86124d84"
      },
      "source": [
        "print('The sum of all the numbers divisible by 7 between 18 and 534 is', sum_of_numbers)"
      ],
      "execution_count": null,
      "outputs": [
        {
          "output_type": "stream",
          "text": [
            "The sum of all the numbers divisible by 7 between 18 and 534 is 20461\n"
          ],
          "name": "stdout"
        }
      ]
    },
    {
      "cell_type": "markdown",
      "metadata": {
        "id": "i-KWu5bVnhVO",
        "colab_type": "text"
      },
      "source": [
        "If you are not able to figure out the solution to this problem, you can ask for hints on the community forum: https://jovian.ml/forum/t/assignment-1-python-practice/7761 . Remember to save your work before moving forward."
      ]
    },
    {
      "cell_type": "code",
      "metadata": {
        "id": "ftMtEPyZnhVP",
        "colab_type": "code",
        "colab": {
          "base_uri": "https://localhost:8080/",
          "height": 86
        },
        "outputId": "6b577949-82c7-4840-9480-2ec28287cfaa"
      },
      "source": [
        "jovian.commit(project=project_name,environment=None)"
      ],
      "execution_count": null,
      "outputs": [
        {
          "output_type": "stream",
          "text": [
            "[jovian] Detected Colab notebook...\u001b[0m\n",
            "[jovian] Uploading colab notebook to Jovian...\u001b[0m\n",
            "[jovian] Committed successfully! https://jovian.ml/rhuthuhegde/python-practice-assignment\u001b[0m\n"
          ],
          "name": "stdout"
        },
        {
          "output_type": "execute_result",
          "data": {
            "application/vnd.google.colaboratory.intrinsic+json": {
              "type": "string"
            },
            "text/plain": [
              "'https://jovian.ml/rhuthuhegde/python-practice-assignment'"
            ]
          },
          "metadata": {
            "tags": []
          },
          "execution_count": 44
        }
      ]
    },
    {
      "cell_type": "markdown",
      "metadata": {
        "id": "aNs44e9lnhVY",
        "colab_type": "text"
      },
      "source": [
        "## Problem 4 - Flying to the Bahamas\n",
        "\n",
        "**Q: A travel company wants to fly a plane to the Bahamas. Flying the plane costs 5000 dollars. So far, 29 people have signed up for the trip. If the company charges 200 dollars per ticket, what is the profit made by the company?**\n",
        "\n",
        "Fill in values or arithmetic expressions for the variables below."
      ]
    },
    {
      "cell_type": "code",
      "metadata": {
        "id": "DAGVXALfnhVZ",
        "colab_type": "code",
        "colab": {}
      },
      "source": [
        "cost_of_flying_plane = 5000"
      ],
      "execution_count": null,
      "outputs": []
    },
    {
      "cell_type": "code",
      "metadata": {
        "id": "Ba8u6IT_nhVd",
        "colab_type": "code",
        "colab": {}
      },
      "source": [
        "number_of_passengers = 29"
      ],
      "execution_count": null,
      "outputs": []
    },
    {
      "cell_type": "code",
      "metadata": {
        "id": "PbuCLmoYnhVk",
        "colab_type": "code",
        "colab": {}
      },
      "source": [
        "price_of_ticket = 200"
      ],
      "execution_count": null,
      "outputs": []
    },
    {
      "cell_type": "code",
      "metadata": {
        "id": "goOAQspMnhVr",
        "colab_type": "code",
        "colab": {}
      },
      "source": [
        "profit = (number_of_passengers * price_of_ticket)-cost_of_flying_plane"
      ],
      "execution_count": null,
      "outputs": []
    },
    {
      "cell_type": "code",
      "metadata": {
        "id": "-k-DnTq6nhVu",
        "colab_type": "code",
        "colab": {
          "base_uri": "https://localhost:8080/",
          "height": 34
        },
        "outputId": "db3b5715-dbdf-4c94-eb37-3ba3ed38b6cb"
      },
      "source": [
        "print('The company makes of a profit of {} dollars'.format(profit))"
      ],
      "execution_count": null,
      "outputs": [
        {
          "output_type": "stream",
          "text": [
            "The company makes of a profit of 800 dollars\n"
          ],
          "name": "stdout"
        }
      ]
    },
    {
      "cell_type": "markdown",
      "metadata": {
        "id": "kf1zSsyonhVx",
        "colab_type": "text"
      },
      "source": [
        "**Q (Optional): Out of the 29 people who took the flight, only 12 buy tickets to return from the Bahamas on the same plane. If the flying the plane back also costs 5000 dollars, and does the company make an overall profit or loss? The company charges the same fee of 200 dollars per ticket for the return flight.**\n",
        "\n",
        "Use an `if` statement to display the result."
      ]
    },
    {
      "cell_type": "code",
      "metadata": {
        "id": "WhVZQyjqnhVy",
        "colab_type": "code",
        "colab": {
          "base_uri": "https://localhost:8080/",
          "height": 34
        },
        "outputId": "f34599c1-7fa7-4602-a38b-292a1a3c70fc"
      },
      "source": [
        "# this is optional\n",
        "return_passengers=12\n",
        "cost_of_flying_plane = 5000\n",
        "price_of_ticket = 200\n",
        "profit_return=(return_passengers*price_of_ticket)-cost_of_flying_plane\n",
        "profit_return"
      ],
      "execution_count": null,
      "outputs": [
        {
          "output_type": "execute_result",
          "data": {
            "text/plain": [
              "-2600"
            ]
          },
          "metadata": {
            "tags": []
          },
          "execution_count": 54
        }
      ]
    },
    {
      "cell_type": "code",
      "metadata": {
        "id": "hgMx03fOnhV4",
        "colab_type": "code",
        "colab": {
          "base_uri": "https://localhost:8080/",
          "height": 34
        },
        "outputId": "50638f41-7daf-43fe-cb62-780ebba9596d"
      },
      "source": [
        "# this is optional\n",
        "if (profit+profit_return)>0:\n",
        "    print(\"The company makes an overall profit of {} dollars\".format(profit+profit_return))\n",
        "else:\n",
        "    print(\"The company makes an overall loss of {} dollars\".format(abs(profit+profit_return)))"
      ],
      "execution_count": null,
      "outputs": [
        {
          "output_type": "stream",
          "text": [
            "The company makes an overall loss of 1800 dollars\n"
          ],
          "name": "stdout"
        }
      ]
    },
    {
      "cell_type": "markdown",
      "metadata": {
        "id": "JQHTWRFYnhV9",
        "colab_type": "text"
      },
      "source": [
        "Great work so far! Want to take a break? Remember to save and upload your notebook to record your progress."
      ]
    },
    {
      "cell_type": "code",
      "metadata": {
        "id": "1lUgRPr8nhV-",
        "colab_type": "code",
        "colab": {
          "base_uri": "https://localhost:8080/",
          "height": 86
        },
        "outputId": "49fe4d75-4bad-436b-e57b-67d866829874"
      },
      "source": [
        "jovian.commit(project=project_name,environment=None)"
      ],
      "execution_count": null,
      "outputs": [
        {
          "output_type": "stream",
          "text": [
            "[jovian] Detected Colab notebook...\u001b[0m\n",
            "[jovian] Uploading colab notebook to Jovian...\u001b[0m\n",
            "[jovian] Committed successfully! https://jovian.ml/rhuthuhegde/python-practice-assignment\u001b[0m\n"
          ],
          "name": "stdout"
        },
        {
          "output_type": "execute_result",
          "data": {
            "application/vnd.google.colaboratory.intrinsic+json": {
              "type": "string"
            },
            "text/plain": [
              "'https://jovian.ml/rhuthuhegde/python-practice-assignment'"
            ]
          },
          "metadata": {
            "tags": []
          },
          "execution_count": 56
        }
      ]
    },
    {
      "cell_type": "markdown",
      "metadata": {
        "id": "M2sO4HJ9nhWE",
        "colab_type": "text"
      },
      "source": [
        "## Problem 5 - Twitter Sentiment Analysis\n",
        "\n",
        "Are your ready to perform some *Data Analysis with Python*? In this problem, we'll analyze some fictional tweets and find out whether the overall sentiment of Twitter users is happy or sad. This is a simplified version of an important real world problem called *sentiment analysis*.\n",
        "\n",
        "Before we begin, we need a list of tweets to analyze. We're picking a small number of tweets here, but the exact same analysis can also be done for thousands, or even millions of tweets. The collection of data that we perform analysis on is often called a *dataset*."
      ]
    },
    {
      "cell_type": "code",
      "metadata": {
        "id": "dE6Kxm1PnhWF",
        "colab_type": "code",
        "colab": {}
      },
      "source": [
        "tweets = [\n",
        "    \"Wow, what a great day today!! #sunshine\",\n",
        "    \"I feel sad about the things going on around us. #covid19\",\n",
        "    \"I'm really excited to learn Python with @JovianML #zerotopandas\",\n",
        "    \"This is a really nice song. #linkinpark\",\n",
        "    \"The python programming language is useful for data science\",\n",
        "    \"Why do bad things happen to me?\",\n",
        "    \"Apple announces the release of the new iPhone 12. Fans are excited.\",\n",
        "    \"Spent my day with family!! #happy\",\n",
        "    \"Check out my blog post on common string operations in Python. #zerotopandas\",\n",
        "    \"Freecodecamp has great coding tutorials. #skillup\"\n",
        "]"
      ],
      "execution_count": 58,
      "outputs": []
    },
    {
      "cell_type": "markdown",
      "metadata": {
        "id": "50xmUobonhWK",
        "colab_type": "text"
      },
      "source": [
        "Let's begin by answering a very simple but important question about our dataset.\n",
        "\n",
        "**Q: How many tweets does the dataset contain?**"
      ]
    },
    {
      "cell_type": "code",
      "metadata": {
        "id": "k47QvC3tnhWL",
        "colab_type": "code",
        "colab": {}
      },
      "source": [
        "number_of_tweets = len(tweets)"
      ],
      "execution_count": 59,
      "outputs": []
    },
    {
      "cell_type": "markdown",
      "metadata": {
        "id": "BwGqUO4WnhWZ",
        "colab_type": "text"
      },
      "source": [
        "Let's create two lists of words: `happy_words` and `sad_words`. We will use these to check if a tweet is happy or sad."
      ]
    },
    {
      "cell_type": "code",
      "metadata": {
        "id": "mmJcdyXrnhWa",
        "colab_type": "code",
        "colab": {}
      },
      "source": [
        "happy_words = ['great', 'excited', 'happy', 'nice', 'wonderful', 'amazing', 'good', 'best']"
      ],
      "execution_count": 60,
      "outputs": []
    },
    {
      "cell_type": "code",
      "metadata": {
        "id": "M4BPHE6tnhWe",
        "colab_type": "code",
        "colab": {}
      },
      "source": [
        "sad_words = ['sad', 'bad', 'tragic', 'unhappy', 'worst']"
      ],
      "execution_count": 61,
      "outputs": []
    },
    {
      "cell_type": "markdown",
      "metadata": {
        "id": "p_zpQ8pLnhWo",
        "colab_type": "text"
      },
      "source": [
        "To identify whether a tweet is happy, we can simply check if contains any of the words from `happy_words`. Here's an example:"
      ]
    },
    {
      "cell_type": "code",
      "metadata": {
        "id": "f0JOwm28nhWq",
        "colab_type": "code",
        "colab": {}
      },
      "source": [
        "sample_tweet = tweets[0]"
      ],
      "execution_count": 62,
      "outputs": []
    },
    {
      "cell_type": "code",
      "metadata": {
        "id": "uWD3c_1nnhW6",
        "colab_type": "code",
        "colab": {
          "base_uri": "https://localhost:8080/",
          "height": 35
        },
        "outputId": "a1fc8d4a-da20-4d41-a331-1719c42b0725"
      },
      "source": [
        "sample_tweet"
      ],
      "execution_count": 63,
      "outputs": [
        {
          "output_type": "execute_result",
          "data": {
            "application/vnd.google.colaboratory.intrinsic+json": {
              "type": "string"
            },
            "text/plain": [
              "'Wow, what a great day today!! #sunshine'"
            ]
          },
          "metadata": {
            "tags": []
          },
          "execution_count": 63
        }
      ]
    },
    {
      "cell_type": "code",
      "metadata": {
        "id": "mIazr78jnhW-",
        "colab_type": "code",
        "colab": {}
      },
      "source": [
        "is_tweet_happy = False\n",
        "\n",
        "# Get a word from happy_words\n",
        "for word in happy_words:\n",
        "    # Check if the tweet contains the word\n",
        "    if word in sample_tweet:\n",
        "        # Word found! Mark the tweet as happy\n",
        "        is_tweet_happy = True"
      ],
      "execution_count": 64,
      "outputs": []
    },
    {
      "cell_type": "markdown",
      "metadata": {
        "id": "rnKzJUZMnhXC",
        "colab_type": "text"
      },
      "source": [
        "Do you understand what we're doing above? \n",
        "\n",
        "> For each word in the list of happy words, we check if is a part of the selected tweet. If the word is indded a part of the tweet, we set the variable `is_tweet_happy` to `True`. "
      ]
    },
    {
      "cell_type": "code",
      "metadata": {
        "id": "XmjxLQ1HnhXC",
        "colab_type": "code",
        "colab": {
          "base_uri": "https://localhost:8080/",
          "height": 34
        },
        "outputId": "90a965bf-684c-49da-e857-42f3abb8a1db"
      },
      "source": [
        "is_tweet_happy"
      ],
      "execution_count": 65,
      "outputs": [
        {
          "output_type": "execute_result",
          "data": {
            "text/plain": [
              "True"
            ]
          },
          "metadata": {
            "tags": []
          },
          "execution_count": 65
        }
      ]
    },
    {
      "cell_type": "markdown",
      "metadata": {
        "id": "XHQbtBudnhXG",
        "colab_type": "text"
      },
      "source": [
        "**Q: Determine the number of tweets in the dataset that can be classified as happy.**\n",
        "\n",
        "*Hint*: You'll need to use a loop inside another loop to do this. Use the code from the example shown above."
      ]
    },
    {
      "cell_type": "code",
      "metadata": {
        "id": "NQEEqVyjnhXH",
        "colab_type": "code",
        "colab": {}
      },
      "source": [
        "# store the final answer in this variable\n",
        "number_of_happy_tweets = 0\n",
        "for i in range(len(tweets)):\n",
        "  sample=tweets[i]\n",
        "  for word in happy_words:\n",
        "    if word in sample:\n",
        "      number_of_happy_tweets=number_of_happy_tweets+1\n",
        "  \n",
        "\n",
        "# perform the calculations here"
      ],
      "execution_count": 69,
      "outputs": []
    },
    {
      "cell_type": "code",
      "metadata": {
        "id": "mzNaRUKFnhXN",
        "colab_type": "code",
        "colab": {
          "base_uri": "https://localhost:8080/",
          "height": 34
        },
        "outputId": "522759fd-d408-4a66-9bfe-ff2409dba2ab"
      },
      "source": [
        "print(\"Number of happy tweets:\", number_of_happy_tweets)"
      ],
      "execution_count": 70,
      "outputs": [
        {
          "output_type": "stream",
          "text": [
            "Number of happy tweets: 6\n"
          ],
          "name": "stdout"
        }
      ]
    },
    {
      "cell_type": "markdown",
      "metadata": {
        "id": "JNghBEvJnhXT",
        "colab_type": "text"
      },
      "source": [
        "If you are not able to figure out the solution to this problem, you can ask for hints on the community forum: https://jovian.ml/forum/t/assignment-1-python-practice/7761 . Also try adding `print` statements inside your loops to inspect variables and make sure your logic is correct."
      ]
    },
    {
      "cell_type": "markdown",
      "metadata": {
        "id": "CHx2mn8SnhXV",
        "colab_type": "text"
      },
      "source": [
        "**Q: What fraction of the total number of tweets are happy?**\n",
        "\n",
        "For example, if 2 out of 10 tweets are happy, then the answer is `2/10` i.e. `0.2`."
      ]
    },
    {
      "cell_type": "code",
      "metadata": {
        "id": "QUh_3hVvnhXW",
        "colab_type": "code",
        "colab": {}
      },
      "source": [
        "happy_fraction = number_of_happy_tweets/len(tweets)"
      ],
      "execution_count": 71,
      "outputs": []
    },
    {
      "cell_type": "code",
      "metadata": {
        "id": "SJehJE_WnhXa",
        "colab_type": "code",
        "colab": {
          "base_uri": "https://localhost:8080/",
          "height": 34
        },
        "outputId": "9b1350d0-0a53-49dd-9dcc-6375bf47d7f7"
      },
      "source": [
        "print(\"The fraction of happy tweets is:\", happy_fraction)"
      ],
      "execution_count": 72,
      "outputs": [
        {
          "output_type": "stream",
          "text": [
            "The fraction of happy tweets is: 0.6\n"
          ],
          "name": "stdout"
        }
      ]
    },
    {
      "cell_type": "markdown",
      "metadata": {
        "id": "lSeWgjVwnhXj",
        "colab_type": "text"
      },
      "source": [
        "To identify whether a tweet is sad, we can simply check if contains any of the words from `sad_words`.\n",
        "\n",
        "**Q: Determine the number of tweets in the dataset that can be classified as sad.**"
      ]
    },
    {
      "cell_type": "code",
      "metadata": {
        "id": "0LCyDQ1UnhXl",
        "colab_type": "code",
        "colab": {}
      },
      "source": [
        "# store the final answer in this variable\n",
        "number_of_sad_tweets = 0\n",
        "for i in range(len(tweets)):\n",
        "  sample=tweets[i]\n",
        "  for word in sad_words:\n",
        "    if word in sample:\n",
        "      number_of_sad_tweets=number_of_sad_tweets+1\n",
        "\n",
        "# perform the calculations here"
      ],
      "execution_count": 73,
      "outputs": []
    },
    {
      "cell_type": "code",
      "metadata": {
        "id": "cL9mcsWSnhXp",
        "colab_type": "code",
        "colab": {
          "base_uri": "https://localhost:8080/",
          "height": 34
        },
        "outputId": "d0acbecf-d622-41c3-c621-7d23dbce857a"
      },
      "source": [
        "print(\"Number of sad tweets:\", number_of_sad_tweets)"
      ],
      "execution_count": 74,
      "outputs": [
        {
          "output_type": "stream",
          "text": [
            "Number of sad tweets: 2\n"
          ],
          "name": "stdout"
        }
      ]
    },
    {
      "cell_type": "markdown",
      "metadata": {
        "id": "ha9yI78BnhXs",
        "colab_type": "text"
      },
      "source": [
        "**Q: What fraction of the total number of tweets are sad?**"
      ]
    },
    {
      "cell_type": "code",
      "metadata": {
        "id": "FKxDyXSqnhXt",
        "colab_type": "code",
        "colab": {}
      },
      "source": [
        "sad_fraction = number_of_sad_tweets/len(tweets)"
      ],
      "execution_count": 75,
      "outputs": []
    },
    {
      "cell_type": "code",
      "metadata": {
        "id": "hUo69CZenhX3",
        "colab_type": "code",
        "colab": {
          "base_uri": "https://localhost:8080/",
          "height": 34
        },
        "outputId": "e718dcd3-d45e-4c52-cb66-1c9ff71ac844"
      },
      "source": [
        "print(\"The fraction of sad tweets is:\", sad_fraction)"
      ],
      "execution_count": 76,
      "outputs": [
        {
          "output_type": "stream",
          "text": [
            "The fraction of sad tweets is: 0.2\n"
          ],
          "name": "stdout"
        }
      ]
    },
    {
      "cell_type": "markdown",
      "metadata": {
        "id": "GNumSZsvnhX9",
        "colab_type": "text"
      },
      "source": [
        "The rest of this problem is optional. Let's save your work before continuing."
      ]
    },
    {
      "cell_type": "code",
      "metadata": {
        "id": "zS1kTdSJnhX-",
        "colab_type": "code",
        "colab": {
          "base_uri": "https://localhost:8080/",
          "height": 86
        },
        "outputId": "7c5fb627-43c2-4e67-a33c-48a70436ac4c"
      },
      "source": [
        "jovian.commit(project=project_name,environment=None)"
      ],
      "execution_count": 77,
      "outputs": [
        {
          "output_type": "stream",
          "text": [
            "[jovian] Detected Colab notebook...\u001b[0m\n",
            "[jovian] Uploading colab notebook to Jovian...\u001b[0m\n",
            "[jovian] Committed successfully! https://jovian.ml/rhuthuhegde/python-practice-assignment\u001b[0m\n"
          ],
          "name": "stdout"
        },
        {
          "output_type": "execute_result",
          "data": {
            "application/vnd.google.colaboratory.intrinsic+json": {
              "type": "string"
            },
            "text/plain": [
              "'https://jovian.ml/rhuthuhegde/python-practice-assignment'"
            ]
          },
          "metadata": {
            "tags": []
          },
          "execution_count": 77
        }
      ]
    },
    {
      "cell_type": "markdown",
      "metadata": {
        "id": "k1pkIAqZnhYC",
        "colab_type": "text"
      },
      "source": [
        "Great work, even with some basic analysis, we already know a lot about the sentiment of the tweets given to us. Let us now define a metric called \"sentiment score\", to summarize the overall sentiment of the tweets.\n",
        "\n",
        "**Q (Optional): Calculate the sentiment score, which is defined as the difference betweek the fraction of happy tweets and the fraction of sad tweets.**"
      ]
    },
    {
      "cell_type": "code",
      "metadata": {
        "id": "ktpkLTQanhYC",
        "colab_type": "code",
        "colab": {}
      },
      "source": [
        "sentiment_score = happy_fraction-sad_fraction"
      ],
      "execution_count": 78,
      "outputs": []
    },
    {
      "cell_type": "code",
      "metadata": {
        "id": "UNdBwzqenhYI",
        "colab_type": "code",
        "colab": {
          "base_uri": "https://localhost:8080/",
          "height": 34
        },
        "outputId": "9d913461-77d8-487c-902d-bc79fa6444b3"
      },
      "source": [
        "print(\"The sentiment score for the given tweets is\", sentiment_score)"
      ],
      "execution_count": 79,
      "outputs": [
        {
          "output_type": "stream",
          "text": [
            "The sentiment score for the given tweets is 0.39999999999999997\n"
          ],
          "name": "stdout"
        }
      ]
    },
    {
      "cell_type": "markdown",
      "metadata": {
        "id": "ev3eeehrnhYM",
        "colab_type": "text"
      },
      "source": [
        "In a real world scenario, we could calculate & record the sentiment score for all the tweets sent out every day. This information can be used to plot a graph and study the trends in the changing sentiment of the world. The following graph was creating using the Python data visualization library `matplotlib`, which we'll cover later in the course.\n",
        "\n",
        "<img src=\"https://i.imgur.com/6CCIwCb.png\" style=\"width:400px\">\n",
        "\n",
        "What does the sentiment score represent? Based on the value of the sentiment score, can you identify if the overall sentiment of the dataset is happy or sad?\n",
        "\n",
        "**Q (Optional): Display whether the overall sentiment of the given dataset of tweets is happy or sad, using the sentiment score.**"
      ]
    },
    {
      "cell_type": "code",
      "metadata": {
        "id": "xC1IYDKhnhYM",
        "colab_type": "code",
        "colab": {
          "base_uri": "https://localhost:8080/",
          "height": 34
        },
        "outputId": "90dfc593-5c67-47d8-b13d-ca3127674c31"
      },
      "source": [
        "if sentiment_score>0:\n",
        "    print(\"The overall sentiment is happy\")\n",
        "else:\n",
        "    print(\"The overall sentiment is sad\")"
      ],
      "execution_count": 80,
      "outputs": [
        {
          "output_type": "stream",
          "text": [
            "The overall sentiment is happy\n"
          ],
          "name": "stdout"
        }
      ]
    },
    {
      "cell_type": "markdown",
      "metadata": {
        "id": "0-ZzA06enhYP",
        "colab_type": "text"
      },
      "source": [
        "Finally, it's also important to track how many tweets are neutral i.e. neither happy nor sad. If a large fraction of tweets are marked neutral, maybe we need to improve our lists of happy and sad words. \n",
        "\n",
        "**Q (Optional): What is the fraction of tweets that are neutral i.e. neither happy nor sad.**"
      ]
    },
    {
      "cell_type": "code",
      "metadata": {
        "id": "o3qjBfaCnhYR",
        "colab_type": "code",
        "colab": {
          "base_uri": "https://localhost:8080/",
          "height": 34
        },
        "outputId": "6ef6b3b5-99eb-4c2d-b7f3-3fa727210468"
      },
      "source": [
        "# store the final answer in this variable\n",
        "number_of_neutral_tweets = 0\n",
        "\n",
        "number_of_neutral_tweets=len(tweets)-number_of_sad_tweets-number_of_happy_tweets\n",
        "\n",
        "# perform the calculation here\n",
        "number_of_neutral_tweets"
      ],
      "execution_count": 85,
      "outputs": [
        {
          "output_type": "execute_result",
          "data": {
            "text/plain": [
              "2"
            ]
          },
          "metadata": {
            "tags": []
          },
          "execution_count": 85
        }
      ]
    },
    {
      "cell_type": "code",
      "metadata": {
        "id": "U7eIBnzgnhYV",
        "colab_type": "code",
        "colab": {}
      },
      "source": [
        "neutral_fraction = number_of_neutral_tweets/len(tweets)"
      ],
      "execution_count": 86,
      "outputs": []
    },
    {
      "cell_type": "code",
      "metadata": {
        "id": "5ZF_XkDLnhYb",
        "colab_type": "code",
        "colab": {
          "base_uri": "https://localhost:8080/",
          "height": 34
        },
        "outputId": "3c8393f5-83c3-4a48-e909-820bfbfa6d7a"
      },
      "source": [
        "print('The fraction of neutral tweets is', neutral_fraction)"
      ],
      "execution_count": 87,
      "outputs": [
        {
          "output_type": "stream",
          "text": [
            "The fraction of neutral tweets is 0.2\n"
          ],
          "name": "stdout"
        }
      ]
    },
    {
      "cell_type": "markdown",
      "metadata": {
        "id": "FQRyUYPEnhYg",
        "colab_type": "text"
      },
      "source": [
        "Ponder upon these questions and try some experiments to hone your skills further:\n",
        "\n",
        "* What are the limitations of our approach? When will it go wrong or give incorrect results?\n",
        "* How can we improve our approach to address the limitations?\n",
        "* What are some other questions you would like to ask, given a list of tweets?\n",
        "* Try collecting some real tweets from your Twitter timeline and repeat this analysis. Do the results make sense?\n",
        "\n",
        "**IMPORTANT NOTE**: If you want to try out these experiments, please create a new notebook using the \"New Notebook\" button on your Jovian.ml profile, to avoid making unintended changes to your assignment submission notebook."
      ]
    },
    {
      "cell_type": "markdown",
      "metadata": {
        "id": "Cajfr1hsnhYg",
        "colab_type": "text"
      },
      "source": [
        "## Submission \n",
        "\n",
        "Congratulations on making it this far! You've reached the end of this assignment, and you just completed your first data analysis problem. It's time to record one final version of your notebook for submission.\n",
        "\n",
        "Make a submission here by filling the submission form: https://jovian.ml/learn/data-analysis-with-python-zero-to-pandas/assignment/assignment-1-python-basics-practice"
      ]
    },
    {
      "cell_type": "code",
      "metadata": {
        "scrolled": false,
        "id": "D_wJnlGlnhYh",
        "colab_type": "code",
        "colab": {
          "base_uri": "https://localhost:8080/",
          "height": 86
        },
        "outputId": "34084479-1300-4660-decc-dd714dd44fe0"
      },
      "source": [
        "jovian.commit(project=project_name,environment=None)"
      ],
      "execution_count": 88,
      "outputs": [
        {
          "output_type": "stream",
          "text": [
            "[jovian] Detected Colab notebook...\u001b[0m\n",
            "[jovian] Uploading colab notebook to Jovian...\u001b[0m\n",
            "[jovian] Committed successfully! https://jovian.ml/rhuthuhegde/python-practice-assignment\u001b[0m\n"
          ],
          "name": "stdout"
        },
        {
          "output_type": "execute_result",
          "data": {
            "application/vnd.google.colaboratory.intrinsic+json": {
              "type": "string"
            },
            "text/plain": [
              "'https://jovian.ml/rhuthuhegde/python-practice-assignment'"
            ]
          },
          "metadata": {
            "tags": []
          },
          "execution_count": 88
        }
      ]
    },
    {
      "cell_type": "code",
      "metadata": {
        "id": "gK_4ty7lV7qx",
        "colab_type": "code",
        "colab": {}
      },
      "source": [
        ""
      ],
      "execution_count": null,
      "outputs": []
    }
  ]
}