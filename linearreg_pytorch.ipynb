{
  "nbformat": 4,
  "nbformat_minor": 0,
  "metadata": {
    "colab": {
      "name": "blank-starter.ipynb",
      "provenance": [],
      "collapsed_sections": []
    },
    "kernelspec": {
      "display_name": "Python 3",
      "language": "python",
      "name": "python3"
    },
    "language_info": {
      "codemirror_mode": {
        "name": "ipython",
        "version": 3
      },
      "file_extension": ".py",
      "mimetype": "text/x-python",
      "name": "python",
      "nbconvert_exporter": "python",
      "pygments_lexer": "ipython3",
      "version": "3.7.6"
    }
  },
  "cells": [
    {
      "cell_type": "code",
      "metadata": {
        "id": "UwLOsNH5kL9E"
      },
      "source": [
        "# Jovian Commit Essentials\n",
        "# Please retain and execute this cell without modifying the contents for `jovian.commit` to work\n",
        "!pip install jovian --upgrade -q\n",
        "import jovian\n",
        "jovian.utils.colab.set_colab_file_id('1dM9MQJwUSFKfOnKzOqbGYIv3DMLC7xt2')"
      ],
      "execution_count": 462,
      "outputs": []
    },
    {
      "cell_type": "code",
      "metadata": {
        "id": "fmCnJX50yTu2"
      },
      "source": [
        "!pip install jovian --upgrade --quiet"
      ],
      "execution_count": 463,
      "outputs": []
    },
    {
      "cell_type": "code",
      "metadata": {
        "id": "DdonwokQyTu3"
      },
      "source": [
        "import numpy as np\n",
        "import pandas as pd\n",
        "import torch\n"
      ],
      "execution_count": 464,
      "outputs": []
    },
    {
      "cell_type": "code",
      "metadata": {
        "id": "HrPcRqI5zBi3"
      },
      "source": [
        "data=pd.read_csv('/USA_Housing.csv')"
      ],
      "execution_count": 465,
      "outputs": []
    },
    {
      "cell_type": "code",
      "metadata": {
        "colab": {
          "base_uri": "https://localhost:8080/",
          "height": 272
        },
        "id": "lOY8uxU-zZRs",
        "outputId": "bf9251b7-d706-4f21-df5b-282a33f8b11a"
      },
      "source": [
        "data.head(5)"
      ],
      "execution_count": 466,
      "outputs": [
        {
          "output_type": "execute_result",
          "data": {
            "text/html": [
              "<div>\n",
              "<style scoped>\n",
              "    .dataframe tbody tr th:only-of-type {\n",
              "        vertical-align: middle;\n",
              "    }\n",
              "\n",
              "    .dataframe tbody tr th {\n",
              "        vertical-align: top;\n",
              "    }\n",
              "\n",
              "    .dataframe thead th {\n",
              "        text-align: right;\n",
              "    }\n",
              "</style>\n",
              "<table border=\"1\" class=\"dataframe\">\n",
              "  <thead>\n",
              "    <tr style=\"text-align: right;\">\n",
              "      <th></th>\n",
              "      <th>Avg. Area Income</th>\n",
              "      <th>Avg. Area House Age</th>\n",
              "      <th>Avg. Area Number of Rooms</th>\n",
              "      <th>Avg. Area Number of Bedrooms</th>\n",
              "      <th>Area Population</th>\n",
              "      <th>Price</th>\n",
              "      <th>Address</th>\n",
              "    </tr>\n",
              "  </thead>\n",
              "  <tbody>\n",
              "    <tr>\n",
              "      <th>0</th>\n",
              "      <td>79545.458574</td>\n",
              "      <td>5.682861</td>\n",
              "      <td>7.009188</td>\n",
              "      <td>4.09</td>\n",
              "      <td>23086.800503</td>\n",
              "      <td>1.059034e+06</td>\n",
              "      <td>208 Michael Ferry Apt. 674\\nLaurabury, NE 3701...</td>\n",
              "    </tr>\n",
              "    <tr>\n",
              "      <th>1</th>\n",
              "      <td>79248.642455</td>\n",
              "      <td>6.002900</td>\n",
              "      <td>6.730821</td>\n",
              "      <td>3.09</td>\n",
              "      <td>40173.072174</td>\n",
              "      <td>1.505891e+06</td>\n",
              "      <td>188 Johnson Views Suite 079\\nLake Kathleen, CA...</td>\n",
              "    </tr>\n",
              "    <tr>\n",
              "      <th>2</th>\n",
              "      <td>61287.067179</td>\n",
              "      <td>5.865890</td>\n",
              "      <td>8.512727</td>\n",
              "      <td>5.13</td>\n",
              "      <td>36882.159400</td>\n",
              "      <td>1.058988e+06</td>\n",
              "      <td>9127 Elizabeth Stravenue\\nDanieltown, WI 06482...</td>\n",
              "    </tr>\n",
              "    <tr>\n",
              "      <th>3</th>\n",
              "      <td>63345.240046</td>\n",
              "      <td>7.188236</td>\n",
              "      <td>5.586729</td>\n",
              "      <td>3.26</td>\n",
              "      <td>34310.242831</td>\n",
              "      <td>1.260617e+06</td>\n",
              "      <td>USS Barnett\\nFPO AP 44820</td>\n",
              "    </tr>\n",
              "    <tr>\n",
              "      <th>4</th>\n",
              "      <td>59982.197226</td>\n",
              "      <td>5.040555</td>\n",
              "      <td>7.839388</td>\n",
              "      <td>4.23</td>\n",
              "      <td>26354.109472</td>\n",
              "      <td>6.309435e+05</td>\n",
              "      <td>USNS Raymond\\nFPO AE 09386</td>\n",
              "    </tr>\n",
              "  </tbody>\n",
              "</table>\n",
              "</div>"
            ],
            "text/plain": [
              "   Avg. Area Income  ...                                            Address\n",
              "0      79545.458574  ...  208 Michael Ferry Apt. 674\\nLaurabury, NE 3701...\n",
              "1      79248.642455  ...  188 Johnson Views Suite 079\\nLake Kathleen, CA...\n",
              "2      61287.067179  ...  9127 Elizabeth Stravenue\\nDanieltown, WI 06482...\n",
              "3      63345.240046  ...                          USS Barnett\\nFPO AP 44820\n",
              "4      59982.197226  ...                         USNS Raymond\\nFPO AE 09386\n",
              "\n",
              "[5 rows x 7 columns]"
            ]
          },
          "metadata": {
            "tags": []
          },
          "execution_count": 466
        }
      ]
    },
    {
      "cell_type": "code",
      "metadata": {
        "id": "QAqFR4zczakK"
      },
      "source": [
        "data.drop('Address',axis='columns',inplace=True)"
      ],
      "execution_count": 467,
      "outputs": []
    },
    {
      "cell_type": "code",
      "metadata": {
        "colab": {
          "base_uri": "https://localhost:8080/",
          "height": 173
        },
        "id": "yBJVo9Wd0L1k",
        "outputId": "7ad6afcf-b8da-4f7a-8d93-16b624202d41"
      },
      "source": [
        "data.head(4)"
      ],
      "execution_count": 468,
      "outputs": [
        {
          "output_type": "execute_result",
          "data": {
            "text/html": [
              "<div>\n",
              "<style scoped>\n",
              "    .dataframe tbody tr th:only-of-type {\n",
              "        vertical-align: middle;\n",
              "    }\n",
              "\n",
              "    .dataframe tbody tr th {\n",
              "        vertical-align: top;\n",
              "    }\n",
              "\n",
              "    .dataframe thead th {\n",
              "        text-align: right;\n",
              "    }\n",
              "</style>\n",
              "<table border=\"1\" class=\"dataframe\">\n",
              "  <thead>\n",
              "    <tr style=\"text-align: right;\">\n",
              "      <th></th>\n",
              "      <th>Avg. Area Income</th>\n",
              "      <th>Avg. Area House Age</th>\n",
              "      <th>Avg. Area Number of Rooms</th>\n",
              "      <th>Avg. Area Number of Bedrooms</th>\n",
              "      <th>Area Population</th>\n",
              "      <th>Price</th>\n",
              "    </tr>\n",
              "  </thead>\n",
              "  <tbody>\n",
              "    <tr>\n",
              "      <th>0</th>\n",
              "      <td>79545.458574</td>\n",
              "      <td>5.682861</td>\n",
              "      <td>7.009188</td>\n",
              "      <td>4.09</td>\n",
              "      <td>23086.800503</td>\n",
              "      <td>1.059034e+06</td>\n",
              "    </tr>\n",
              "    <tr>\n",
              "      <th>1</th>\n",
              "      <td>79248.642455</td>\n",
              "      <td>6.002900</td>\n",
              "      <td>6.730821</td>\n",
              "      <td>3.09</td>\n",
              "      <td>40173.072174</td>\n",
              "      <td>1.505891e+06</td>\n",
              "    </tr>\n",
              "    <tr>\n",
              "      <th>2</th>\n",
              "      <td>61287.067179</td>\n",
              "      <td>5.865890</td>\n",
              "      <td>8.512727</td>\n",
              "      <td>5.13</td>\n",
              "      <td>36882.159400</td>\n",
              "      <td>1.058988e+06</td>\n",
              "    </tr>\n",
              "    <tr>\n",
              "      <th>3</th>\n",
              "      <td>63345.240046</td>\n",
              "      <td>7.188236</td>\n",
              "      <td>5.586729</td>\n",
              "      <td>3.26</td>\n",
              "      <td>34310.242831</td>\n",
              "      <td>1.260617e+06</td>\n",
              "    </tr>\n",
              "  </tbody>\n",
              "</table>\n",
              "</div>"
            ],
            "text/plain": [
              "   Avg. Area Income  Avg. Area House Age  ...  Area Population         Price\n",
              "0      79545.458574             5.682861  ...     23086.800503  1.059034e+06\n",
              "1      79248.642455             6.002900  ...     40173.072174  1.505891e+06\n",
              "2      61287.067179             5.865890  ...     36882.159400  1.058988e+06\n",
              "3      63345.240046             7.188236  ...     34310.242831  1.260617e+06\n",
              "\n",
              "[4 rows x 6 columns]"
            ]
          },
          "metadata": {
            "tags": []
          },
          "execution_count": 468
        }
      ]
    },
    {
      "cell_type": "code",
      "metadata": {
        "id": "_XwL_HNV0bHL"
      },
      "source": [
        "target=data['Price']"
      ],
      "execution_count": 469,
      "outputs": []
    },
    {
      "cell_type": "code",
      "metadata": {
        "colab": {
          "base_uri": "https://localhost:8080/",
          "height": 204
        },
        "id": "CLD6v2RX0h3p",
        "outputId": "fc90b9f8-a84a-4bd1-eab3-db2cf548d55b"
      },
      "source": [
        "data.head()"
      ],
      "execution_count": 470,
      "outputs": [
        {
          "output_type": "execute_result",
          "data": {
            "text/html": [
              "<div>\n",
              "<style scoped>\n",
              "    .dataframe tbody tr th:only-of-type {\n",
              "        vertical-align: middle;\n",
              "    }\n",
              "\n",
              "    .dataframe tbody tr th {\n",
              "        vertical-align: top;\n",
              "    }\n",
              "\n",
              "    .dataframe thead th {\n",
              "        text-align: right;\n",
              "    }\n",
              "</style>\n",
              "<table border=\"1\" class=\"dataframe\">\n",
              "  <thead>\n",
              "    <tr style=\"text-align: right;\">\n",
              "      <th></th>\n",
              "      <th>Avg. Area Income</th>\n",
              "      <th>Avg. Area House Age</th>\n",
              "      <th>Avg. Area Number of Rooms</th>\n",
              "      <th>Avg. Area Number of Bedrooms</th>\n",
              "      <th>Area Population</th>\n",
              "      <th>Price</th>\n",
              "    </tr>\n",
              "  </thead>\n",
              "  <tbody>\n",
              "    <tr>\n",
              "      <th>0</th>\n",
              "      <td>79545.458574</td>\n",
              "      <td>5.682861</td>\n",
              "      <td>7.009188</td>\n",
              "      <td>4.09</td>\n",
              "      <td>23086.800503</td>\n",
              "      <td>1.059034e+06</td>\n",
              "    </tr>\n",
              "    <tr>\n",
              "      <th>1</th>\n",
              "      <td>79248.642455</td>\n",
              "      <td>6.002900</td>\n",
              "      <td>6.730821</td>\n",
              "      <td>3.09</td>\n",
              "      <td>40173.072174</td>\n",
              "      <td>1.505891e+06</td>\n",
              "    </tr>\n",
              "    <tr>\n",
              "      <th>2</th>\n",
              "      <td>61287.067179</td>\n",
              "      <td>5.865890</td>\n",
              "      <td>8.512727</td>\n",
              "      <td>5.13</td>\n",
              "      <td>36882.159400</td>\n",
              "      <td>1.058988e+06</td>\n",
              "    </tr>\n",
              "    <tr>\n",
              "      <th>3</th>\n",
              "      <td>63345.240046</td>\n",
              "      <td>7.188236</td>\n",
              "      <td>5.586729</td>\n",
              "      <td>3.26</td>\n",
              "      <td>34310.242831</td>\n",
              "      <td>1.260617e+06</td>\n",
              "    </tr>\n",
              "    <tr>\n",
              "      <th>4</th>\n",
              "      <td>59982.197226</td>\n",
              "      <td>5.040555</td>\n",
              "      <td>7.839388</td>\n",
              "      <td>4.23</td>\n",
              "      <td>26354.109472</td>\n",
              "      <td>6.309435e+05</td>\n",
              "    </tr>\n",
              "  </tbody>\n",
              "</table>\n",
              "</div>"
            ],
            "text/plain": [
              "   Avg. Area Income  Avg. Area House Age  ...  Area Population         Price\n",
              "0      79545.458574             5.682861  ...     23086.800503  1.059034e+06\n",
              "1      79248.642455             6.002900  ...     40173.072174  1.505891e+06\n",
              "2      61287.067179             5.865890  ...     36882.159400  1.058988e+06\n",
              "3      63345.240046             7.188236  ...     34310.242831  1.260617e+06\n",
              "4      59982.197226             5.040555  ...     26354.109472  6.309435e+05\n",
              "\n",
              "[5 rows x 6 columns]"
            ]
          },
          "metadata": {
            "tags": []
          },
          "execution_count": 470
        }
      ]
    },
    {
      "cell_type": "code",
      "metadata": {
        "colab": {
          "base_uri": "https://localhost:8080/"
        },
        "id": "jAHM2PAJ03hs",
        "outputId": "e8ec1bed-f522-4f16-87b9-55c614cfd3de"
      },
      "source": [
        "target"
      ],
      "execution_count": 471,
      "outputs": [
        {
          "output_type": "execute_result",
          "data": {
            "text/plain": [
              "0       1.059034e+06\n",
              "1       1.505891e+06\n",
              "2       1.058988e+06\n",
              "3       1.260617e+06\n",
              "4       6.309435e+05\n",
              "            ...     \n",
              "4995    1.060194e+06\n",
              "4996    1.482618e+06\n",
              "4997    1.030730e+06\n",
              "4998    1.198657e+06\n",
              "4999    1.298950e+06\n",
              "Name: Price, Length: 5000, dtype: float64"
            ]
          },
          "metadata": {
            "tags": []
          },
          "execution_count": 471
        }
      ]
    },
    {
      "cell_type": "code",
      "metadata": {
        "id": "0i1NLlnB3091"
      },
      "source": [
        "input=data"
      ],
      "execution_count": 472,
      "outputs": []
    },
    {
      "cell_type": "code",
      "metadata": {
        "colab": {
          "base_uri": "https://localhost:8080/",
          "height": 204
        },
        "id": "zNZ_h1Y9047c",
        "outputId": "73d460bf-9772-4313-8eaf-4abb3beac064"
      },
      "source": [
        "input.head()"
      ],
      "execution_count": 473,
      "outputs": [
        {
          "output_type": "execute_result",
          "data": {
            "text/html": [
              "<div>\n",
              "<style scoped>\n",
              "    .dataframe tbody tr th:only-of-type {\n",
              "        vertical-align: middle;\n",
              "    }\n",
              "\n",
              "    .dataframe tbody tr th {\n",
              "        vertical-align: top;\n",
              "    }\n",
              "\n",
              "    .dataframe thead th {\n",
              "        text-align: right;\n",
              "    }\n",
              "</style>\n",
              "<table border=\"1\" class=\"dataframe\">\n",
              "  <thead>\n",
              "    <tr style=\"text-align: right;\">\n",
              "      <th></th>\n",
              "      <th>Avg. Area Income</th>\n",
              "      <th>Avg. Area House Age</th>\n",
              "      <th>Avg. Area Number of Rooms</th>\n",
              "      <th>Avg. Area Number of Bedrooms</th>\n",
              "      <th>Area Population</th>\n",
              "      <th>Price</th>\n",
              "    </tr>\n",
              "  </thead>\n",
              "  <tbody>\n",
              "    <tr>\n",
              "      <th>0</th>\n",
              "      <td>79545.458574</td>\n",
              "      <td>5.682861</td>\n",
              "      <td>7.009188</td>\n",
              "      <td>4.09</td>\n",
              "      <td>23086.800503</td>\n",
              "      <td>1.059034e+06</td>\n",
              "    </tr>\n",
              "    <tr>\n",
              "      <th>1</th>\n",
              "      <td>79248.642455</td>\n",
              "      <td>6.002900</td>\n",
              "      <td>6.730821</td>\n",
              "      <td>3.09</td>\n",
              "      <td>40173.072174</td>\n",
              "      <td>1.505891e+06</td>\n",
              "    </tr>\n",
              "    <tr>\n",
              "      <th>2</th>\n",
              "      <td>61287.067179</td>\n",
              "      <td>5.865890</td>\n",
              "      <td>8.512727</td>\n",
              "      <td>5.13</td>\n",
              "      <td>36882.159400</td>\n",
              "      <td>1.058988e+06</td>\n",
              "    </tr>\n",
              "    <tr>\n",
              "      <th>3</th>\n",
              "      <td>63345.240046</td>\n",
              "      <td>7.188236</td>\n",
              "      <td>5.586729</td>\n",
              "      <td>3.26</td>\n",
              "      <td>34310.242831</td>\n",
              "      <td>1.260617e+06</td>\n",
              "    </tr>\n",
              "    <tr>\n",
              "      <th>4</th>\n",
              "      <td>59982.197226</td>\n",
              "      <td>5.040555</td>\n",
              "      <td>7.839388</td>\n",
              "      <td>4.23</td>\n",
              "      <td>26354.109472</td>\n",
              "      <td>6.309435e+05</td>\n",
              "    </tr>\n",
              "  </tbody>\n",
              "</table>\n",
              "</div>"
            ],
            "text/plain": [
              "   Avg. Area Income  Avg. Area House Age  ...  Area Population         Price\n",
              "0      79545.458574             5.682861  ...     23086.800503  1.059034e+06\n",
              "1      79248.642455             6.002900  ...     40173.072174  1.505891e+06\n",
              "2      61287.067179             5.865890  ...     36882.159400  1.058988e+06\n",
              "3      63345.240046             7.188236  ...     34310.242831  1.260617e+06\n",
              "4      59982.197226             5.040555  ...     26354.109472  6.309435e+05\n",
              "\n",
              "[5 rows x 6 columns]"
            ]
          },
          "metadata": {
            "tags": []
          },
          "execution_count": 473
        }
      ]
    },
    {
      "cell_type": "code",
      "metadata": {
        "colab": {
          "base_uri": "https://localhost:8080/"
        },
        "id": "yX5M68t55PnV",
        "outputId": "2c7d2aca-fffb-496d-80eb-ae1e444b8265"
      },
      "source": [
        "target.head()"
      ],
      "execution_count": 474,
      "outputs": [
        {
          "output_type": "execute_result",
          "data": {
            "text/plain": [
              "0    1.059034e+06\n",
              "1    1.505891e+06\n",
              "2    1.058988e+06\n",
              "3    1.260617e+06\n",
              "4    6.309435e+05\n",
              "Name: Price, dtype: float64"
            ]
          },
          "metadata": {
            "tags": []
          },
          "execution_count": 474
        }
      ]
    },
    {
      "cell_type": "code",
      "metadata": {
        "id": "CKw0hGPP06IU"
      },
      "source": [
        "import jovian"
      ],
      "execution_count": 475,
      "outputs": []
    },
    {
      "cell_type": "code",
      "metadata": {
        "colab": {
          "base_uri": "https://localhost:8080/",
          "height": 103
        },
        "id": "44rBBg6p1PZO",
        "outputId": "0964239c-5a0e-459a-8a28-89c6e9223ab9"
      },
      "source": [
        "jovian.commit(project='linear-regression')"
      ],
      "execution_count": 476,
      "outputs": [
        {
          "output_type": "stream",
          "text": [
            "[jovian] Detected Colab notebook...\u001b[0m\n",
            "[jovian] Uploading colab notebook to Jovian...\u001b[0m\n",
            "[jovian] Capturing environment..\u001b[0m\n",
            "[jovian] Committed successfully! https://jovian.ai/rhuthuhegde/linear-regression\u001b[0m\n"
          ],
          "name": "stdout"
        },
        {
          "output_type": "execute_result",
          "data": {
            "application/vnd.google.colaboratory.intrinsic+json": {
              "type": "string"
            },
            "text/plain": [
              "'https://jovian.ai/rhuthuhegde/linear-regression'"
            ]
          },
          "metadata": {
            "tags": []
          },
          "execution_count": 476
        }
      ]
    },
    {
      "cell_type": "code",
      "metadata": {
        "id": "J0MeZSNx1RrL"
      },
      "source": [
        "data['Price']=target"
      ],
      "execution_count": 477,
      "outputs": []
    },
    {
      "cell_type": "code",
      "metadata": {
        "colab": {
          "base_uri": "https://localhost:8080/",
          "height": 204
        },
        "id": "WrZ2m7Qf5hG-",
        "outputId": "32f8aa84-29cc-478c-eb13-b51efee6cf04"
      },
      "source": [
        "data.head()"
      ],
      "execution_count": 478,
      "outputs": [
        {
          "output_type": "execute_result",
          "data": {
            "text/html": [
              "<div>\n",
              "<style scoped>\n",
              "    .dataframe tbody tr th:only-of-type {\n",
              "        vertical-align: middle;\n",
              "    }\n",
              "\n",
              "    .dataframe tbody tr th {\n",
              "        vertical-align: top;\n",
              "    }\n",
              "\n",
              "    .dataframe thead th {\n",
              "        text-align: right;\n",
              "    }\n",
              "</style>\n",
              "<table border=\"1\" class=\"dataframe\">\n",
              "  <thead>\n",
              "    <tr style=\"text-align: right;\">\n",
              "      <th></th>\n",
              "      <th>Avg. Area Income</th>\n",
              "      <th>Avg. Area House Age</th>\n",
              "      <th>Avg. Area Number of Rooms</th>\n",
              "      <th>Avg. Area Number of Bedrooms</th>\n",
              "      <th>Area Population</th>\n",
              "      <th>Price</th>\n",
              "    </tr>\n",
              "  </thead>\n",
              "  <tbody>\n",
              "    <tr>\n",
              "      <th>0</th>\n",
              "      <td>79545.458574</td>\n",
              "      <td>5.682861</td>\n",
              "      <td>7.009188</td>\n",
              "      <td>4.09</td>\n",
              "      <td>23086.800503</td>\n",
              "      <td>1.059034e+06</td>\n",
              "    </tr>\n",
              "    <tr>\n",
              "      <th>1</th>\n",
              "      <td>79248.642455</td>\n",
              "      <td>6.002900</td>\n",
              "      <td>6.730821</td>\n",
              "      <td>3.09</td>\n",
              "      <td>40173.072174</td>\n",
              "      <td>1.505891e+06</td>\n",
              "    </tr>\n",
              "    <tr>\n",
              "      <th>2</th>\n",
              "      <td>61287.067179</td>\n",
              "      <td>5.865890</td>\n",
              "      <td>8.512727</td>\n",
              "      <td>5.13</td>\n",
              "      <td>36882.159400</td>\n",
              "      <td>1.058988e+06</td>\n",
              "    </tr>\n",
              "    <tr>\n",
              "      <th>3</th>\n",
              "      <td>63345.240046</td>\n",
              "      <td>7.188236</td>\n",
              "      <td>5.586729</td>\n",
              "      <td>3.26</td>\n",
              "      <td>34310.242831</td>\n",
              "      <td>1.260617e+06</td>\n",
              "    </tr>\n",
              "    <tr>\n",
              "      <th>4</th>\n",
              "      <td>59982.197226</td>\n",
              "      <td>5.040555</td>\n",
              "      <td>7.839388</td>\n",
              "      <td>4.23</td>\n",
              "      <td>26354.109472</td>\n",
              "      <td>6.309435e+05</td>\n",
              "    </tr>\n",
              "  </tbody>\n",
              "</table>\n",
              "</div>"
            ],
            "text/plain": [
              "   Avg. Area Income  Avg. Area House Age  ...  Area Population         Price\n",
              "0      79545.458574             5.682861  ...     23086.800503  1.059034e+06\n",
              "1      79248.642455             6.002900  ...     40173.072174  1.505891e+06\n",
              "2      61287.067179             5.865890  ...     36882.159400  1.058988e+06\n",
              "3      63345.240046             7.188236  ...     34310.242831  1.260617e+06\n",
              "4      59982.197226             5.040555  ...     26354.109472  6.309435e+05\n",
              "\n",
              "[5 rows x 6 columns]"
            ]
          },
          "metadata": {
            "tags": []
          },
          "execution_count": 478
        }
      ]
    },
    {
      "cell_type": "code",
      "metadata": {
        "id": "U1OEh0Sa6EQS"
      },
      "source": [
        "target=torch.tensor(target.values)"
      ],
      "execution_count": 479,
      "outputs": []
    },
    {
      "cell_type": "code",
      "metadata": {
        "id": "4gTp1glC77L7"
      },
      "source": [
        "# target=torch.log(target)"
      ],
      "execution_count": 480,
      "outputs": []
    },
    {
      "cell_type": "code",
      "metadata": {
        "colab": {
          "base_uri": "https://localhost:8080/"
        },
        "id": "sDi1GCI4K0C6",
        "outputId": "5a50a0dc-5cac-4f71-c700-c425885c2a22"
      },
      "source": [
        "target"
      ],
      "execution_count": 481,
      "outputs": [
        {
          "output_type": "execute_result",
          "data": {
            "text/plain": [
              "tensor([1059033.5579, 1505890.9148, 1058987.9879,  ..., 1030729.5832,\n",
              "        1198656.8724, 1298950.4803], dtype=torch.float64)"
            ]
          },
          "metadata": {
            "tags": []
          },
          "execution_count": 481
        }
      ]
    },
    {
      "cell_type": "code",
      "metadata": {
        "id": "Qd6hnM5goUk9"
      },
      "source": [
        "target=torch.log(target)"
      ],
      "execution_count": 482,
      "outputs": []
    },
    {
      "cell_type": "code",
      "metadata": {
        "id": "_U7ftaWv8EfQ"
      },
      "source": [
        "input=torch.tensor(input.values)"
      ],
      "execution_count": 483,
      "outputs": []
    },
    {
      "cell_type": "code",
      "metadata": {
        "id": "RFFosm3L8KAA"
      },
      "source": [
        "input=torch.log(input)"
      ],
      "execution_count": 484,
      "outputs": []
    },
    {
      "cell_type": "code",
      "metadata": {
        "id": "CkRi9nGaKQNu"
      },
      "source": [
        "# input=torch.log(input)"
      ],
      "execution_count": 485,
      "outputs": []
    },
    {
      "cell_type": "code",
      "metadata": {
        "colab": {
          "base_uri": "https://localhost:8080/"
        },
        "id": "hxMZjZO8KaVb",
        "outputId": "9a4f5033-c74c-477d-ce3a-657c1ce5297a"
      },
      "source": [
        "input"
      ],
      "execution_count": 486,
      "outputs": [
        {
          "output_type": "execute_result",
          "data": {
            "text/plain": [
              "tensor([[11.2841,  1.7375,  1.9472,  1.4085, 10.0470, 13.8729],\n",
              "        [11.2803,  1.7922,  1.9067,  1.1282, 10.6010, 14.2249],\n",
              "        [11.0233,  1.7692,  2.1416,  1.6351, 10.5155, 13.8728],\n",
              "        ...,\n",
              "        [11.0571,  1.9811,  1.5697,  0.7561, 10.4123, 13.8458],\n",
              "        [11.1273,  1.7110,  1.9643,  1.6938, 10.6602, 13.9967],\n",
              "        [11.0900,  1.7905,  1.9158,  1.4036, 10.7472, 14.0771]],\n",
              "       dtype=torch.float64)"
            ]
          },
          "metadata": {
            "tags": []
          },
          "execution_count": 486
        }
      ]
    },
    {
      "cell_type": "markdown",
      "metadata": {
        "id": "7A9Xiwyp8dGJ"
      },
      "source": [
        "converting the pandas dataframe into pytorch tensor"
      ]
    },
    {
      "cell_type": "code",
      "metadata": {
        "colab": {
          "base_uri": "https://localhost:8080/"
        },
        "id": "nY0zv05Q8LDH",
        "outputId": "d1881c15-1a70-4b24-93a7-43d79166baf9"
      },
      "source": [
        "target.shape"
      ],
      "execution_count": 487,
      "outputs": [
        {
          "output_type": "execute_result",
          "data": {
            "text/plain": [
              "torch.Size([5000])"
            ]
          },
          "metadata": {
            "tags": []
          },
          "execution_count": 487
        }
      ]
    },
    {
      "cell_type": "code",
      "metadata": {
        "colab": {
          "base_uri": "https://localhost:8080/"
        },
        "id": "nnGW-DI08QYR",
        "outputId": "a132714e-ecac-46cb-e22f-052dd3e7bb76"
      },
      "source": [
        "input.shape"
      ],
      "execution_count": 488,
      "outputs": [
        {
          "output_type": "execute_result",
          "data": {
            "text/plain": [
              "torch.Size([5000, 6])"
            ]
          },
          "metadata": {
            "tags": []
          },
          "execution_count": 488
        }
      ]
    },
    {
      "cell_type": "code",
      "metadata": {
        "colab": {
          "base_uri": "https://localhost:8080/",
          "height": 103
        },
        "id": "SEkmEEgc8SUE",
        "outputId": "63bf5fcc-40cf-4ad1-dd13-b701d8b7bd6d"
      },
      "source": [
        "jovian.commit(project='linear-regression')"
      ],
      "execution_count": 489,
      "outputs": [
        {
          "output_type": "stream",
          "text": [
            "[jovian] Detected Colab notebook...\u001b[0m\n",
            "[jovian] Uploading colab notebook to Jovian...\u001b[0m\n",
            "[jovian] Capturing environment..\u001b[0m\n",
            "[jovian] Committed successfully! https://jovian.ai/rhuthuhegde/linear-regression\u001b[0m\n"
          ],
          "name": "stdout"
        },
        {
          "output_type": "execute_result",
          "data": {
            "application/vnd.google.colaboratory.intrinsic+json": {
              "type": "string"
            },
            "text/plain": [
              "'https://jovian.ai/rhuthuhegde/linear-regression'"
            ]
          },
          "metadata": {
            "tags": []
          },
          "execution_count": 489
        }
      ]
    },
    {
      "cell_type": "markdown",
      "metadata": {
        "id": "mBXt6M1687Fm"
      },
      "source": [
        "creating the random weights and biases"
      ]
    },
    {
      "cell_type": "code",
      "metadata": {
        "id": "wkAdlKKr8WZX"
      },
      "source": [
        "w=torch.randn(1,6,requires_grad=True,dtype=torch.float64)\n",
        "b=torch.randn(1,requires_grad=True,dtype=torch.float64)"
      ],
      "execution_count": 490,
      "outputs": []
    },
    {
      "cell_type": "code",
      "metadata": {
        "colab": {
          "base_uri": "https://localhost:8080/"
        },
        "id": "e2BmYjC8DR3d",
        "outputId": "37e1b004-d599-41de-dacb-ebd28bba23a6"
      },
      "source": [
        "print(w)\n",
        "print(w.shape)"
      ],
      "execution_count": 491,
      "outputs": [
        {
          "output_type": "stream",
          "text": [
            "tensor([[-0.2960, -0.0825,  0.2563,  0.5315,  0.3309,  1.0002]],\n",
            "       dtype=torch.float64, requires_grad=True)\n",
            "torch.Size([1, 6])\n"
          ],
          "name": "stdout"
        }
      ]
    },
    {
      "cell_type": "code",
      "metadata": {
        "colab": {
          "base_uri": "https://localhost:8080/"
        },
        "id": "OmxivcaYDSqi",
        "outputId": "4efc8719-3101-437c-cd68-ead31f7640aa"
      },
      "source": [
        "b"
      ],
      "execution_count": 492,
      "outputs": [
        {
          "output_type": "execute_result",
          "data": {
            "text/plain": [
              "tensor([-1.0228], dtype=torch.float64, requires_grad=True)"
            ]
          },
          "metadata": {
            "tags": []
          },
          "execution_count": 492
        }
      ]
    },
    {
      "cell_type": "code",
      "metadata": {
        "id": "n3TLkkHiM3u9"
      },
      "source": [
        "def prediction(input):\n",
        "  pred=input@w.t()+b\n",
        "  return pred"
      ],
      "execution_count": 493,
      "outputs": []
    },
    {
      "cell_type": "code",
      "metadata": {
        "id": "SJfzoiKvOPsP"
      },
      "source": [
        "def mse(pred,target):\n",
        "  diff=pred-target\n",
        "  loss=torch.sum(diff*diff)/diff.numel()\n",
        "  return loss"
      ],
      "execution_count": 494,
      "outputs": []
    },
    {
      "cell_type": "code",
      "metadata": {
        "id": "aKr4a-4wksHB"
      },
      "source": [
        "# def gradient(w,b,loss):\n",
        "#   lr=0.001\n",
        "#   loss.backward()\n",
        "#   with torch.no_grad():\n",
        "#     w-=w.grad*lr\n",
        "#     b-=b.grad*lr\n",
        "#     w.grad.zero_()\n",
        "#     b.grad.zero_()\n",
        "#   return w,b"
      ],
      "execution_count": 495,
      "outputs": []
    },
    {
      "cell_type": "code",
      "metadata": {
        "colab": {
          "base_uri": "https://localhost:8080/"
        },
        "id": "GtcLmdrjQFYo",
        "outputId": "70c1826e-0039-4883-bb71-8069a6ab78be"
      },
      "source": [
        "err=[]\n",
        "for i in range(1000):\n",
        "  pred=prediction(input)\n",
        "  error=mse(pred,target)\n",
        "  print(error)\n",
        "  err.append(error)\n",
        "  lr=1e-5\n",
        "  error.backward()\n",
        "  with torch.no_grad():\n",
        "    w-=w.grad*lr\n",
        "    b-=b.grad*lr\n",
        "    w.grad.zero_()\n",
        "    b.grad.zero_()"
      ],
      "execution_count": 496,
      "outputs": [
        {
          "output_type": "stream",
          "text": [
            "tensor(0.3463, dtype=torch.float64, grad_fn=<DivBackward0>)\n",
            "tensor(0.3455, dtype=torch.float64, grad_fn=<DivBackward0>)\n",
            "tensor(0.3447, dtype=torch.float64, grad_fn=<DivBackward0>)\n",
            "tensor(0.3440, dtype=torch.float64, grad_fn=<DivBackward0>)\n",
            "tensor(0.3433, dtype=torch.float64, grad_fn=<DivBackward0>)\n",
            "tensor(0.3425, dtype=torch.float64, grad_fn=<DivBackward0>)\n",
            "tensor(0.3418, dtype=torch.float64, grad_fn=<DivBackward0>)\n",
            "tensor(0.3411, dtype=torch.float64, grad_fn=<DivBackward0>)\n",
            "tensor(0.3405, dtype=torch.float64, grad_fn=<DivBackward0>)\n",
            "tensor(0.3398, dtype=torch.float64, grad_fn=<DivBackward0>)\n",
            "tensor(0.3391, dtype=torch.float64, grad_fn=<DivBackward0>)\n",
            "tensor(0.3385, dtype=torch.float64, grad_fn=<DivBackward0>)\n",
            "tensor(0.3379, dtype=torch.float64, grad_fn=<DivBackward0>)\n",
            "tensor(0.3372, dtype=torch.float64, grad_fn=<DivBackward0>)\n",
            "tensor(0.3366, dtype=torch.float64, grad_fn=<DivBackward0>)\n",
            "tensor(0.3360, dtype=torch.float64, grad_fn=<DivBackward0>)\n",
            "tensor(0.3354, dtype=torch.float64, grad_fn=<DivBackward0>)\n",
            "tensor(0.3348, dtype=torch.float64, grad_fn=<DivBackward0>)\n",
            "tensor(0.3343, dtype=torch.float64, grad_fn=<DivBackward0>)\n",
            "tensor(0.3337, dtype=torch.float64, grad_fn=<DivBackward0>)\n",
            "tensor(0.3332, dtype=torch.float64, grad_fn=<DivBackward0>)\n",
            "tensor(0.3326, dtype=torch.float64, grad_fn=<DivBackward0>)\n",
            "tensor(0.3321, dtype=torch.float64, grad_fn=<DivBackward0>)\n",
            "tensor(0.3316, dtype=torch.float64, grad_fn=<DivBackward0>)\n",
            "tensor(0.3311, dtype=torch.float64, grad_fn=<DivBackward0>)\n",
            "tensor(0.3305, dtype=torch.float64, grad_fn=<DivBackward0>)\n",
            "tensor(0.3301, dtype=torch.float64, grad_fn=<DivBackward0>)\n",
            "tensor(0.3296, dtype=torch.float64, grad_fn=<DivBackward0>)\n",
            "tensor(0.3291, dtype=torch.float64, grad_fn=<DivBackward0>)\n",
            "tensor(0.3286, dtype=torch.float64, grad_fn=<DivBackward0>)\n",
            "tensor(0.3282, dtype=torch.float64, grad_fn=<DivBackward0>)\n",
            "tensor(0.3277, dtype=torch.float64, grad_fn=<DivBackward0>)\n",
            "tensor(0.3273, dtype=torch.float64, grad_fn=<DivBackward0>)\n",
            "tensor(0.3268, dtype=torch.float64, grad_fn=<DivBackward0>)\n",
            "tensor(0.3264, dtype=torch.float64, grad_fn=<DivBackward0>)\n",
            "tensor(0.3260, dtype=torch.float64, grad_fn=<DivBackward0>)\n",
            "tensor(0.3255, dtype=torch.float64, grad_fn=<DivBackward0>)\n",
            "tensor(0.3251, dtype=torch.float64, grad_fn=<DivBackward0>)\n",
            "tensor(0.3247, dtype=torch.float64, grad_fn=<DivBackward0>)\n",
            "tensor(0.3243, dtype=torch.float64, grad_fn=<DivBackward0>)\n",
            "tensor(0.3240, dtype=torch.float64, grad_fn=<DivBackward0>)\n",
            "tensor(0.3236, dtype=torch.float64, grad_fn=<DivBackward0>)\n",
            "tensor(0.3232, dtype=torch.float64, grad_fn=<DivBackward0>)\n",
            "tensor(0.3228, dtype=torch.float64, grad_fn=<DivBackward0>)\n",
            "tensor(0.3225, dtype=torch.float64, grad_fn=<DivBackward0>)\n",
            "tensor(0.3221, dtype=torch.float64, grad_fn=<DivBackward0>)\n",
            "tensor(0.3218, dtype=torch.float64, grad_fn=<DivBackward0>)\n",
            "tensor(0.3214, dtype=torch.float64, grad_fn=<DivBackward0>)\n",
            "tensor(0.3211, dtype=torch.float64, grad_fn=<DivBackward0>)\n",
            "tensor(0.3208, dtype=torch.float64, grad_fn=<DivBackward0>)\n",
            "tensor(0.3204, dtype=torch.float64, grad_fn=<DivBackward0>)\n",
            "tensor(0.3201, dtype=torch.float64, grad_fn=<DivBackward0>)\n",
            "tensor(0.3198, dtype=torch.float64, grad_fn=<DivBackward0>)\n",
            "tensor(0.3195, dtype=torch.float64, grad_fn=<DivBackward0>)\n",
            "tensor(0.3192, dtype=torch.float64, grad_fn=<DivBackward0>)\n",
            "tensor(0.3189, dtype=torch.float64, grad_fn=<DivBackward0>)\n",
            "tensor(0.3186, dtype=torch.float64, grad_fn=<DivBackward0>)\n",
            "tensor(0.3183, dtype=torch.float64, grad_fn=<DivBackward0>)\n",
            "tensor(0.3180, dtype=torch.float64, grad_fn=<DivBackward0>)\n",
            "tensor(0.3177, dtype=torch.float64, grad_fn=<DivBackward0>)\n",
            "tensor(0.3175, dtype=torch.float64, grad_fn=<DivBackward0>)\n",
            "tensor(0.3172, dtype=torch.float64, grad_fn=<DivBackward0>)\n",
            "tensor(0.3169, dtype=torch.float64, grad_fn=<DivBackward0>)\n",
            "tensor(0.3167, dtype=torch.float64, grad_fn=<DivBackward0>)\n",
            "tensor(0.3164, dtype=torch.float64, grad_fn=<DivBackward0>)\n",
            "tensor(0.3162, dtype=torch.float64, grad_fn=<DivBackward0>)\n",
            "tensor(0.3159, dtype=torch.float64, grad_fn=<DivBackward0>)\n",
            "tensor(0.3157, dtype=torch.float64, grad_fn=<DivBackward0>)\n",
            "tensor(0.3155, dtype=torch.float64, grad_fn=<DivBackward0>)\n",
            "tensor(0.3152, dtype=torch.float64, grad_fn=<DivBackward0>)\n",
            "tensor(0.3150, dtype=torch.float64, grad_fn=<DivBackward0>)\n",
            "tensor(0.3148, dtype=torch.float64, grad_fn=<DivBackward0>)\n",
            "tensor(0.3146, dtype=torch.float64, grad_fn=<DivBackward0>)\n",
            "tensor(0.3143, dtype=torch.float64, grad_fn=<DivBackward0>)\n",
            "tensor(0.3141, dtype=torch.float64, grad_fn=<DivBackward0>)\n",
            "tensor(0.3139, dtype=torch.float64, grad_fn=<DivBackward0>)\n",
            "tensor(0.3137, dtype=torch.float64, grad_fn=<DivBackward0>)\n",
            "tensor(0.3135, dtype=torch.float64, grad_fn=<DivBackward0>)\n",
            "tensor(0.3133, dtype=torch.float64, grad_fn=<DivBackward0>)\n",
            "tensor(0.3131, dtype=torch.float64, grad_fn=<DivBackward0>)\n",
            "tensor(0.3129, dtype=torch.float64, grad_fn=<DivBackward0>)\n",
            "tensor(0.3127, dtype=torch.float64, grad_fn=<DivBackward0>)\n",
            "tensor(0.3125, dtype=torch.float64, grad_fn=<DivBackward0>)\n",
            "tensor(0.3124, dtype=torch.float64, grad_fn=<DivBackward0>)\n",
            "tensor(0.3122, dtype=torch.float64, grad_fn=<DivBackward0>)\n",
            "tensor(0.3120, dtype=torch.float64, grad_fn=<DivBackward0>)\n",
            "tensor(0.3118, dtype=torch.float64, grad_fn=<DivBackward0>)\n",
            "tensor(0.3117, dtype=torch.float64, grad_fn=<DivBackward0>)\n",
            "tensor(0.3115, dtype=torch.float64, grad_fn=<DivBackward0>)\n",
            "tensor(0.3113, dtype=torch.float64, grad_fn=<DivBackward0>)\n",
            "tensor(0.3112, dtype=torch.float64, grad_fn=<DivBackward0>)\n",
            "tensor(0.3110, dtype=torch.float64, grad_fn=<DivBackward0>)\n",
            "tensor(0.3109, dtype=torch.float64, grad_fn=<DivBackward0>)\n",
            "tensor(0.3107, dtype=torch.float64, grad_fn=<DivBackward0>)\n",
            "tensor(0.3106, dtype=torch.float64, grad_fn=<DivBackward0>)\n",
            "tensor(0.3104, dtype=torch.float64, grad_fn=<DivBackward0>)\n",
            "tensor(0.3103, dtype=torch.float64, grad_fn=<DivBackward0>)\n",
            "tensor(0.3101, dtype=torch.float64, grad_fn=<DivBackward0>)\n",
            "tensor(0.3100, dtype=torch.float64, grad_fn=<DivBackward0>)\n",
            "tensor(0.3098, dtype=torch.float64, grad_fn=<DivBackward0>)\n",
            "tensor(0.3097, dtype=torch.float64, grad_fn=<DivBackward0>)\n",
            "tensor(0.3096, dtype=torch.float64, grad_fn=<DivBackward0>)\n",
            "tensor(0.3094, dtype=torch.float64, grad_fn=<DivBackward0>)\n",
            "tensor(0.3093, dtype=torch.float64, grad_fn=<DivBackward0>)\n",
            "tensor(0.3092, dtype=torch.float64, grad_fn=<DivBackward0>)\n",
            "tensor(0.3091, dtype=torch.float64, grad_fn=<DivBackward0>)\n",
            "tensor(0.3090, dtype=torch.float64, grad_fn=<DivBackward0>)\n",
            "tensor(0.3088, dtype=torch.float64, grad_fn=<DivBackward0>)\n",
            "tensor(0.3087, dtype=torch.float64, grad_fn=<DivBackward0>)\n",
            "tensor(0.3086, dtype=torch.float64, grad_fn=<DivBackward0>)\n",
            "tensor(0.3085, dtype=torch.float64, grad_fn=<DivBackward0>)\n",
            "tensor(0.3084, dtype=torch.float64, grad_fn=<DivBackward0>)\n",
            "tensor(0.3083, dtype=torch.float64, grad_fn=<DivBackward0>)\n",
            "tensor(0.3082, dtype=torch.float64, grad_fn=<DivBackward0>)\n",
            "tensor(0.3081, dtype=torch.float64, grad_fn=<DivBackward0>)\n",
            "tensor(0.3079, dtype=torch.float64, grad_fn=<DivBackward0>)\n",
            "tensor(0.3078, dtype=torch.float64, grad_fn=<DivBackward0>)\n",
            "tensor(0.3077, dtype=torch.float64, grad_fn=<DivBackward0>)\n",
            "tensor(0.3076, dtype=torch.float64, grad_fn=<DivBackward0>)\n",
            "tensor(0.3076, dtype=torch.float64, grad_fn=<DivBackward0>)\n",
            "tensor(0.3075, dtype=torch.float64, grad_fn=<DivBackward0>)\n",
            "tensor(0.3074, dtype=torch.float64, grad_fn=<DivBackward0>)\n",
            "tensor(0.3073, dtype=torch.float64, grad_fn=<DivBackward0>)\n",
            "tensor(0.3072, dtype=torch.float64, grad_fn=<DivBackward0>)\n",
            "tensor(0.3071, dtype=torch.float64, grad_fn=<DivBackward0>)\n",
            "tensor(0.3070, dtype=torch.float64, grad_fn=<DivBackward0>)\n",
            "tensor(0.3069, dtype=torch.float64, grad_fn=<DivBackward0>)\n",
            "tensor(0.3068, dtype=torch.float64, grad_fn=<DivBackward0>)\n",
            "tensor(0.3068, dtype=torch.float64, grad_fn=<DivBackward0>)\n",
            "tensor(0.3067, dtype=torch.float64, grad_fn=<DivBackward0>)\n",
            "tensor(0.3066, dtype=torch.float64, grad_fn=<DivBackward0>)\n",
            "tensor(0.3065, dtype=torch.float64, grad_fn=<DivBackward0>)\n",
            "tensor(0.3064, dtype=torch.float64, grad_fn=<DivBackward0>)\n",
            "tensor(0.3064, dtype=torch.float64, grad_fn=<DivBackward0>)\n",
            "tensor(0.3063, dtype=torch.float64, grad_fn=<DivBackward0>)\n",
            "tensor(0.3062, dtype=torch.float64, grad_fn=<DivBackward0>)\n",
            "tensor(0.3061, dtype=torch.float64, grad_fn=<DivBackward0>)\n",
            "tensor(0.3061, dtype=torch.float64, grad_fn=<DivBackward0>)\n",
            "tensor(0.3060, dtype=torch.float64, grad_fn=<DivBackward0>)\n",
            "tensor(0.3059, dtype=torch.float64, grad_fn=<DivBackward0>)\n",
            "tensor(0.3059, dtype=torch.float64, grad_fn=<DivBackward0>)\n",
            "tensor(0.3058, dtype=torch.float64, grad_fn=<DivBackward0>)\n",
            "tensor(0.3057, dtype=torch.float64, grad_fn=<DivBackward0>)\n",
            "tensor(0.3057, dtype=torch.float64, grad_fn=<DivBackward0>)\n",
            "tensor(0.3056, dtype=torch.float64, grad_fn=<DivBackward0>)\n",
            "tensor(0.3055, dtype=torch.float64, grad_fn=<DivBackward0>)\n",
            "tensor(0.3055, dtype=torch.float64, grad_fn=<DivBackward0>)\n",
            "tensor(0.3054, dtype=torch.float64, grad_fn=<DivBackward0>)\n",
            "tensor(0.3054, dtype=torch.float64, grad_fn=<DivBackward0>)\n",
            "tensor(0.3053, dtype=torch.float64, grad_fn=<DivBackward0>)\n",
            "tensor(0.3053, dtype=torch.float64, grad_fn=<DivBackward0>)\n",
            "tensor(0.3052, dtype=torch.float64, grad_fn=<DivBackward0>)\n",
            "tensor(0.3051, dtype=torch.float64, grad_fn=<DivBackward0>)\n",
            "tensor(0.3051, dtype=torch.float64, grad_fn=<DivBackward0>)\n",
            "tensor(0.3050, dtype=torch.float64, grad_fn=<DivBackward0>)\n",
            "tensor(0.3050, dtype=torch.float64, grad_fn=<DivBackward0>)\n",
            "tensor(0.3049, dtype=torch.float64, grad_fn=<DivBackward0>)\n",
            "tensor(0.3049, dtype=torch.float64, grad_fn=<DivBackward0>)\n",
            "tensor(0.3048, dtype=torch.float64, grad_fn=<DivBackward0>)\n",
            "tensor(0.3048, dtype=torch.float64, grad_fn=<DivBackward0>)\n",
            "tensor(0.3047, dtype=torch.float64, grad_fn=<DivBackward0>)\n",
            "tensor(0.3047, dtype=torch.float64, grad_fn=<DivBackward0>)\n",
            "tensor(0.3047, dtype=torch.float64, grad_fn=<DivBackward0>)\n",
            "tensor(0.3046, dtype=torch.float64, grad_fn=<DivBackward0>)\n",
            "tensor(0.3046, dtype=torch.float64, grad_fn=<DivBackward0>)\n",
            "tensor(0.3045, dtype=torch.float64, grad_fn=<DivBackward0>)\n",
            "tensor(0.3045, dtype=torch.float64, grad_fn=<DivBackward0>)\n",
            "tensor(0.3044, dtype=torch.float64, grad_fn=<DivBackward0>)\n",
            "tensor(0.3044, dtype=torch.float64, grad_fn=<DivBackward0>)\n",
            "tensor(0.3044, dtype=torch.float64, grad_fn=<DivBackward0>)\n",
            "tensor(0.3043, dtype=torch.float64, grad_fn=<DivBackward0>)\n",
            "tensor(0.3043, dtype=torch.float64, grad_fn=<DivBackward0>)\n",
            "tensor(0.3042, dtype=torch.float64, grad_fn=<DivBackward0>)\n",
            "tensor(0.3042, dtype=torch.float64, grad_fn=<DivBackward0>)\n",
            "tensor(0.3042, dtype=torch.float64, grad_fn=<DivBackward0>)\n",
            "tensor(0.3041, dtype=torch.float64, grad_fn=<DivBackward0>)\n",
            "tensor(0.3041, dtype=torch.float64, grad_fn=<DivBackward0>)\n",
            "tensor(0.3041, dtype=torch.float64, grad_fn=<DivBackward0>)\n",
            "tensor(0.3040, dtype=torch.float64, grad_fn=<DivBackward0>)\n",
            "tensor(0.3040, dtype=torch.float64, grad_fn=<DivBackward0>)\n",
            "tensor(0.3040, dtype=torch.float64, grad_fn=<DivBackward0>)\n",
            "tensor(0.3039, dtype=torch.float64, grad_fn=<DivBackward0>)\n",
            "tensor(0.3039, dtype=torch.float64, grad_fn=<DivBackward0>)\n",
            "tensor(0.3039, dtype=torch.float64, grad_fn=<DivBackward0>)\n",
            "tensor(0.3038, dtype=torch.float64, grad_fn=<DivBackward0>)\n",
            "tensor(0.3038, dtype=torch.float64, grad_fn=<DivBackward0>)\n",
            "tensor(0.3038, dtype=torch.float64, grad_fn=<DivBackward0>)\n",
            "tensor(0.3037, dtype=torch.float64, grad_fn=<DivBackward0>)\n",
            "tensor(0.3037, dtype=torch.float64, grad_fn=<DivBackward0>)\n",
            "tensor(0.3037, dtype=torch.float64, grad_fn=<DivBackward0>)\n",
            "tensor(0.3037, dtype=torch.float64, grad_fn=<DivBackward0>)\n",
            "tensor(0.3036, dtype=torch.float64, grad_fn=<DivBackward0>)\n",
            "tensor(0.3036, dtype=torch.float64, grad_fn=<DivBackward0>)\n",
            "tensor(0.3036, dtype=torch.float64, grad_fn=<DivBackward0>)\n",
            "tensor(0.3035, dtype=torch.float64, grad_fn=<DivBackward0>)\n",
            "tensor(0.3035, dtype=torch.float64, grad_fn=<DivBackward0>)\n",
            "tensor(0.3035, dtype=torch.float64, grad_fn=<DivBackward0>)\n",
            "tensor(0.3035, dtype=torch.float64, grad_fn=<DivBackward0>)\n",
            "tensor(0.3034, dtype=torch.float64, grad_fn=<DivBackward0>)\n",
            "tensor(0.3034, dtype=torch.float64, grad_fn=<DivBackward0>)\n",
            "tensor(0.3034, dtype=torch.float64, grad_fn=<DivBackward0>)\n",
            "tensor(0.3034, dtype=torch.float64, grad_fn=<DivBackward0>)\n",
            "tensor(0.3034, dtype=torch.float64, grad_fn=<DivBackward0>)\n",
            "tensor(0.3033, dtype=torch.float64, grad_fn=<DivBackward0>)\n",
            "tensor(0.3033, dtype=torch.float64, grad_fn=<DivBackward0>)\n",
            "tensor(0.3033, dtype=torch.float64, grad_fn=<DivBackward0>)\n",
            "tensor(0.3033, dtype=torch.float64, grad_fn=<DivBackward0>)\n",
            "tensor(0.3032, dtype=torch.float64, grad_fn=<DivBackward0>)\n",
            "tensor(0.3032, dtype=torch.float64, grad_fn=<DivBackward0>)\n",
            "tensor(0.3032, dtype=torch.float64, grad_fn=<DivBackward0>)\n",
            "tensor(0.3032, dtype=torch.float64, grad_fn=<DivBackward0>)\n",
            "tensor(0.3032, dtype=torch.float64, grad_fn=<DivBackward0>)\n",
            "tensor(0.3031, dtype=torch.float64, grad_fn=<DivBackward0>)\n",
            "tensor(0.3031, dtype=torch.float64, grad_fn=<DivBackward0>)\n",
            "tensor(0.3031, dtype=torch.float64, grad_fn=<DivBackward0>)\n",
            "tensor(0.3031, dtype=torch.float64, grad_fn=<DivBackward0>)\n",
            "tensor(0.3031, dtype=torch.float64, grad_fn=<DivBackward0>)\n",
            "tensor(0.3031, dtype=torch.float64, grad_fn=<DivBackward0>)\n",
            "tensor(0.3030, dtype=torch.float64, grad_fn=<DivBackward0>)\n",
            "tensor(0.3030, dtype=torch.float64, grad_fn=<DivBackward0>)\n",
            "tensor(0.3030, dtype=torch.float64, grad_fn=<DivBackward0>)\n",
            "tensor(0.3030, dtype=torch.float64, grad_fn=<DivBackward0>)\n",
            "tensor(0.3030, dtype=torch.float64, grad_fn=<DivBackward0>)\n",
            "tensor(0.3030, dtype=torch.float64, grad_fn=<DivBackward0>)\n",
            "tensor(0.3029, dtype=torch.float64, grad_fn=<DivBackward0>)\n",
            "tensor(0.3029, dtype=torch.float64, grad_fn=<DivBackward0>)\n",
            "tensor(0.3029, dtype=torch.float64, grad_fn=<DivBackward0>)\n",
            "tensor(0.3029, dtype=torch.float64, grad_fn=<DivBackward0>)\n",
            "tensor(0.3029, dtype=torch.float64, grad_fn=<DivBackward0>)\n",
            "tensor(0.3029, dtype=torch.float64, grad_fn=<DivBackward0>)\n",
            "tensor(0.3029, dtype=torch.float64, grad_fn=<DivBackward0>)\n",
            "tensor(0.3028, dtype=torch.float64, grad_fn=<DivBackward0>)\n",
            "tensor(0.3028, dtype=torch.float64, grad_fn=<DivBackward0>)\n",
            "tensor(0.3028, dtype=torch.float64, grad_fn=<DivBackward0>)\n",
            "tensor(0.3028, dtype=torch.float64, grad_fn=<DivBackward0>)\n",
            "tensor(0.3028, dtype=torch.float64, grad_fn=<DivBackward0>)\n",
            "tensor(0.3028, dtype=torch.float64, grad_fn=<DivBackward0>)\n",
            "tensor(0.3028, dtype=torch.float64, grad_fn=<DivBackward0>)\n",
            "tensor(0.3027, dtype=torch.float64, grad_fn=<DivBackward0>)\n",
            "tensor(0.3027, dtype=torch.float64, grad_fn=<DivBackward0>)\n",
            "tensor(0.3027, dtype=torch.float64, grad_fn=<DivBackward0>)\n",
            "tensor(0.3027, dtype=torch.float64, grad_fn=<DivBackward0>)\n",
            "tensor(0.3027, dtype=torch.float64, grad_fn=<DivBackward0>)\n",
            "tensor(0.3027, dtype=torch.float64, grad_fn=<DivBackward0>)\n",
            "tensor(0.3027, dtype=torch.float64, grad_fn=<DivBackward0>)\n",
            "tensor(0.3027, dtype=torch.float64, grad_fn=<DivBackward0>)\n",
            "tensor(0.3027, dtype=torch.float64, grad_fn=<DivBackward0>)\n",
            "tensor(0.3026, dtype=torch.float64, grad_fn=<DivBackward0>)\n",
            "tensor(0.3026, dtype=torch.float64, grad_fn=<DivBackward0>)\n",
            "tensor(0.3026, dtype=torch.float64, grad_fn=<DivBackward0>)\n",
            "tensor(0.3026, dtype=torch.float64, grad_fn=<DivBackward0>)\n",
            "tensor(0.3026, dtype=torch.float64, grad_fn=<DivBackward0>)\n",
            "tensor(0.3026, dtype=torch.float64, grad_fn=<DivBackward0>)\n",
            "tensor(0.3026, dtype=torch.float64, grad_fn=<DivBackward0>)\n",
            "tensor(0.3026, dtype=torch.float64, grad_fn=<DivBackward0>)\n",
            "tensor(0.3026, dtype=torch.float64, grad_fn=<DivBackward0>)\n",
            "tensor(0.3026, dtype=torch.float64, grad_fn=<DivBackward0>)\n",
            "tensor(0.3026, dtype=torch.float64, grad_fn=<DivBackward0>)\n",
            "tensor(0.3025, dtype=torch.float64, grad_fn=<DivBackward0>)\n",
            "tensor(0.3025, dtype=torch.float64, grad_fn=<DivBackward0>)\n",
            "tensor(0.3025, dtype=torch.float64, grad_fn=<DivBackward0>)\n",
            "tensor(0.3025, dtype=torch.float64, grad_fn=<DivBackward0>)\n",
            "tensor(0.3025, dtype=torch.float64, grad_fn=<DivBackward0>)\n",
            "tensor(0.3025, dtype=torch.float64, grad_fn=<DivBackward0>)\n",
            "tensor(0.3025, dtype=torch.float64, grad_fn=<DivBackward0>)\n",
            "tensor(0.3025, dtype=torch.float64, grad_fn=<DivBackward0>)\n",
            "tensor(0.3025, dtype=torch.float64, grad_fn=<DivBackward0>)\n",
            "tensor(0.3025, dtype=torch.float64, grad_fn=<DivBackward0>)\n",
            "tensor(0.3025, dtype=torch.float64, grad_fn=<DivBackward0>)\n",
            "tensor(0.3025, dtype=torch.float64, grad_fn=<DivBackward0>)\n",
            "tensor(0.3025, dtype=torch.float64, grad_fn=<DivBackward0>)\n",
            "tensor(0.3024, dtype=torch.float64, grad_fn=<DivBackward0>)\n",
            "tensor(0.3024, dtype=torch.float64, grad_fn=<DivBackward0>)\n",
            "tensor(0.3024, dtype=torch.float64, grad_fn=<DivBackward0>)\n",
            "tensor(0.3024, dtype=torch.float64, grad_fn=<DivBackward0>)\n",
            "tensor(0.3024, dtype=torch.float64, grad_fn=<DivBackward0>)\n",
            "tensor(0.3024, dtype=torch.float64, grad_fn=<DivBackward0>)\n",
            "tensor(0.3024, dtype=torch.float64, grad_fn=<DivBackward0>)\n",
            "tensor(0.3024, dtype=torch.float64, grad_fn=<DivBackward0>)\n",
            "tensor(0.3024, dtype=torch.float64, grad_fn=<DivBackward0>)\n",
            "tensor(0.3024, dtype=torch.float64, grad_fn=<DivBackward0>)\n",
            "tensor(0.3024, dtype=torch.float64, grad_fn=<DivBackward0>)\n",
            "tensor(0.3024, dtype=torch.float64, grad_fn=<DivBackward0>)\n",
            "tensor(0.3024, dtype=torch.float64, grad_fn=<DivBackward0>)\n",
            "tensor(0.3024, dtype=torch.float64, grad_fn=<DivBackward0>)\n",
            "tensor(0.3024, dtype=torch.float64, grad_fn=<DivBackward0>)\n",
            "tensor(0.3024, dtype=torch.float64, grad_fn=<DivBackward0>)\n",
            "tensor(0.3023, dtype=torch.float64, grad_fn=<DivBackward0>)\n",
            "tensor(0.3023, dtype=torch.float64, grad_fn=<DivBackward0>)\n",
            "tensor(0.3023, dtype=torch.float64, grad_fn=<DivBackward0>)\n",
            "tensor(0.3023, dtype=torch.float64, grad_fn=<DivBackward0>)\n",
            "tensor(0.3023, dtype=torch.float64, grad_fn=<DivBackward0>)\n",
            "tensor(0.3023, dtype=torch.float64, grad_fn=<DivBackward0>)\n",
            "tensor(0.3023, dtype=torch.float64, grad_fn=<DivBackward0>)\n",
            "tensor(0.3023, dtype=torch.float64, grad_fn=<DivBackward0>)\n",
            "tensor(0.3023, dtype=torch.float64, grad_fn=<DivBackward0>)\n",
            "tensor(0.3023, dtype=torch.float64, grad_fn=<DivBackward0>)\n",
            "tensor(0.3023, dtype=torch.float64, grad_fn=<DivBackward0>)\n",
            "tensor(0.3023, dtype=torch.float64, grad_fn=<DivBackward0>)\n",
            "tensor(0.3023, dtype=torch.float64, grad_fn=<DivBackward0>)\n",
            "tensor(0.3023, dtype=torch.float64, grad_fn=<DivBackward0>)\n",
            "tensor(0.3023, dtype=torch.float64, grad_fn=<DivBackward0>)\n",
            "tensor(0.3023, dtype=torch.float64, grad_fn=<DivBackward0>)\n",
            "tensor(0.3023, dtype=torch.float64, grad_fn=<DivBackward0>)\n",
            "tensor(0.3023, dtype=torch.float64, grad_fn=<DivBackward0>)\n",
            "tensor(0.3023, dtype=torch.float64, grad_fn=<DivBackward0>)\n",
            "tensor(0.3023, dtype=torch.float64, grad_fn=<DivBackward0>)\n",
            "tensor(0.3023, dtype=torch.float64, grad_fn=<DivBackward0>)\n",
            "tensor(0.3023, dtype=torch.float64, grad_fn=<DivBackward0>)\n",
            "tensor(0.3022, dtype=torch.float64, grad_fn=<DivBackward0>)\n",
            "tensor(0.3022, dtype=torch.float64, grad_fn=<DivBackward0>)\n",
            "tensor(0.3022, dtype=torch.float64, grad_fn=<DivBackward0>)\n",
            "tensor(0.3022, dtype=torch.float64, grad_fn=<DivBackward0>)\n",
            "tensor(0.3022, dtype=torch.float64, grad_fn=<DivBackward0>)\n",
            "tensor(0.3022, dtype=torch.float64, grad_fn=<DivBackward0>)\n",
            "tensor(0.3022, dtype=torch.float64, grad_fn=<DivBackward0>)\n",
            "tensor(0.3022, dtype=torch.float64, grad_fn=<DivBackward0>)\n",
            "tensor(0.3022, dtype=torch.float64, grad_fn=<DivBackward0>)\n",
            "tensor(0.3022, dtype=torch.float64, grad_fn=<DivBackward0>)\n",
            "tensor(0.3022, dtype=torch.float64, grad_fn=<DivBackward0>)\n",
            "tensor(0.3022, dtype=torch.float64, grad_fn=<DivBackward0>)\n",
            "tensor(0.3022, dtype=torch.float64, grad_fn=<DivBackward0>)\n",
            "tensor(0.3022, dtype=torch.float64, grad_fn=<DivBackward0>)\n",
            "tensor(0.3022, dtype=torch.float64, grad_fn=<DivBackward0>)\n",
            "tensor(0.3022, dtype=torch.float64, grad_fn=<DivBackward0>)\n",
            "tensor(0.3022, dtype=torch.float64, grad_fn=<DivBackward0>)\n",
            "tensor(0.3022, dtype=torch.float64, grad_fn=<DivBackward0>)\n",
            "tensor(0.3022, dtype=torch.float64, grad_fn=<DivBackward0>)\n",
            "tensor(0.3022, dtype=torch.float64, grad_fn=<DivBackward0>)\n",
            "tensor(0.3022, dtype=torch.float64, grad_fn=<DivBackward0>)\n",
            "tensor(0.3022, dtype=torch.float64, grad_fn=<DivBackward0>)\n",
            "tensor(0.3022, dtype=torch.float64, grad_fn=<DivBackward0>)\n",
            "tensor(0.3022, dtype=torch.float64, grad_fn=<DivBackward0>)\n",
            "tensor(0.3022, dtype=torch.float64, grad_fn=<DivBackward0>)\n",
            "tensor(0.3022, dtype=torch.float64, grad_fn=<DivBackward0>)\n",
            "tensor(0.3022, dtype=torch.float64, grad_fn=<DivBackward0>)\n",
            "tensor(0.3022, dtype=torch.float64, grad_fn=<DivBackward0>)\n",
            "tensor(0.3022, dtype=torch.float64, grad_fn=<DivBackward0>)\n",
            "tensor(0.3022, dtype=torch.float64, grad_fn=<DivBackward0>)\n",
            "tensor(0.3022, dtype=torch.float64, grad_fn=<DivBackward0>)\n",
            "tensor(0.3022, dtype=torch.float64, grad_fn=<DivBackward0>)\n",
            "tensor(0.3022, dtype=torch.float64, grad_fn=<DivBackward0>)\n",
            "tensor(0.3022, dtype=torch.float64, grad_fn=<DivBackward0>)\n",
            "tensor(0.3022, dtype=torch.float64, grad_fn=<DivBackward0>)\n",
            "tensor(0.3021, dtype=torch.float64, grad_fn=<DivBackward0>)\n",
            "tensor(0.3021, dtype=torch.float64, grad_fn=<DivBackward0>)\n",
            "tensor(0.3021, dtype=torch.float64, grad_fn=<DivBackward0>)\n",
            "tensor(0.3021, dtype=torch.float64, grad_fn=<DivBackward0>)\n",
            "tensor(0.3021, dtype=torch.float64, grad_fn=<DivBackward0>)\n",
            "tensor(0.3021, dtype=torch.float64, grad_fn=<DivBackward0>)\n",
            "tensor(0.3021, dtype=torch.float64, grad_fn=<DivBackward0>)\n",
            "tensor(0.3021, dtype=torch.float64, grad_fn=<DivBackward0>)\n",
            "tensor(0.3021, dtype=torch.float64, grad_fn=<DivBackward0>)\n",
            "tensor(0.3021, dtype=torch.float64, grad_fn=<DivBackward0>)\n",
            "tensor(0.3021, dtype=torch.float64, grad_fn=<DivBackward0>)\n",
            "tensor(0.3021, dtype=torch.float64, grad_fn=<DivBackward0>)\n",
            "tensor(0.3021, dtype=torch.float64, grad_fn=<DivBackward0>)\n",
            "tensor(0.3021, dtype=torch.float64, grad_fn=<DivBackward0>)\n",
            "tensor(0.3021, dtype=torch.float64, grad_fn=<DivBackward0>)\n",
            "tensor(0.3021, dtype=torch.float64, grad_fn=<DivBackward0>)\n",
            "tensor(0.3021, dtype=torch.float64, grad_fn=<DivBackward0>)\n",
            "tensor(0.3021, dtype=torch.float64, grad_fn=<DivBackward0>)\n",
            "tensor(0.3021, dtype=torch.float64, grad_fn=<DivBackward0>)\n",
            "tensor(0.3021, dtype=torch.float64, grad_fn=<DivBackward0>)\n",
            "tensor(0.3021, dtype=torch.float64, grad_fn=<DivBackward0>)\n",
            "tensor(0.3021, dtype=torch.float64, grad_fn=<DivBackward0>)\n",
            "tensor(0.3021, dtype=torch.float64, grad_fn=<DivBackward0>)\n",
            "tensor(0.3021, dtype=torch.float64, grad_fn=<DivBackward0>)\n",
            "tensor(0.3021, dtype=torch.float64, grad_fn=<DivBackward0>)\n",
            "tensor(0.3021, dtype=torch.float64, grad_fn=<DivBackward0>)\n",
            "tensor(0.3021, dtype=torch.float64, grad_fn=<DivBackward0>)\n",
            "tensor(0.3021, dtype=torch.float64, grad_fn=<DivBackward0>)\n",
            "tensor(0.3021, dtype=torch.float64, grad_fn=<DivBackward0>)\n",
            "tensor(0.3021, dtype=torch.float64, grad_fn=<DivBackward0>)\n",
            "tensor(0.3021, dtype=torch.float64, grad_fn=<DivBackward0>)\n",
            "tensor(0.3021, dtype=torch.float64, grad_fn=<DivBackward0>)\n",
            "tensor(0.3021, dtype=torch.float64, grad_fn=<DivBackward0>)\n",
            "tensor(0.3021, dtype=torch.float64, grad_fn=<DivBackward0>)\n",
            "tensor(0.3021, dtype=torch.float64, grad_fn=<DivBackward0>)\n",
            "tensor(0.3021, dtype=torch.float64, grad_fn=<DivBackward0>)\n",
            "tensor(0.3021, dtype=torch.float64, grad_fn=<DivBackward0>)\n",
            "tensor(0.3021, dtype=torch.float64, grad_fn=<DivBackward0>)\n",
            "tensor(0.3021, dtype=torch.float64, grad_fn=<DivBackward0>)\n",
            "tensor(0.3021, dtype=torch.float64, grad_fn=<DivBackward0>)\n",
            "tensor(0.3021, dtype=torch.float64, grad_fn=<DivBackward0>)\n",
            "tensor(0.3021, dtype=torch.float64, grad_fn=<DivBackward0>)\n",
            "tensor(0.3021, dtype=torch.float64, grad_fn=<DivBackward0>)\n",
            "tensor(0.3021, dtype=torch.float64, grad_fn=<DivBackward0>)\n",
            "tensor(0.3021, dtype=torch.float64, grad_fn=<DivBackward0>)\n",
            "tensor(0.3021, dtype=torch.float64, grad_fn=<DivBackward0>)\n",
            "tensor(0.3021, dtype=torch.float64, grad_fn=<DivBackward0>)\n",
            "tensor(0.3021, dtype=torch.float64, grad_fn=<DivBackward0>)\n",
            "tensor(0.3021, dtype=torch.float64, grad_fn=<DivBackward0>)\n",
            "tensor(0.3021, dtype=torch.float64, grad_fn=<DivBackward0>)\n",
            "tensor(0.3021, dtype=torch.float64, grad_fn=<DivBackward0>)\n",
            "tensor(0.3021, dtype=torch.float64, grad_fn=<DivBackward0>)\n",
            "tensor(0.3021, dtype=torch.float64, grad_fn=<DivBackward0>)\n",
            "tensor(0.3021, dtype=torch.float64, grad_fn=<DivBackward0>)\n",
            "tensor(0.3021, dtype=torch.float64, grad_fn=<DivBackward0>)\n",
            "tensor(0.3021, dtype=torch.float64, grad_fn=<DivBackward0>)\n",
            "tensor(0.3021, dtype=torch.float64, grad_fn=<DivBackward0>)\n",
            "tensor(0.3021, dtype=torch.float64, grad_fn=<DivBackward0>)\n",
            "tensor(0.3021, dtype=torch.float64, grad_fn=<DivBackward0>)\n",
            "tensor(0.3021, dtype=torch.float64, grad_fn=<DivBackward0>)\n",
            "tensor(0.3021, dtype=torch.float64, grad_fn=<DivBackward0>)\n",
            "tensor(0.3021, dtype=torch.float64, grad_fn=<DivBackward0>)\n",
            "tensor(0.3021, dtype=torch.float64, grad_fn=<DivBackward0>)\n",
            "tensor(0.3021, dtype=torch.float64, grad_fn=<DivBackward0>)\n",
            "tensor(0.3021, dtype=torch.float64, grad_fn=<DivBackward0>)\n",
            "tensor(0.3021, dtype=torch.float64, grad_fn=<DivBackward0>)\n",
            "tensor(0.3021, dtype=torch.float64, grad_fn=<DivBackward0>)\n",
            "tensor(0.3021, dtype=torch.float64, grad_fn=<DivBackward0>)\n",
            "tensor(0.3021, dtype=torch.float64, grad_fn=<DivBackward0>)\n",
            "tensor(0.3021, dtype=torch.float64, grad_fn=<DivBackward0>)\n",
            "tensor(0.3021, dtype=torch.float64, grad_fn=<DivBackward0>)\n",
            "tensor(0.3021, dtype=torch.float64, grad_fn=<DivBackward0>)\n",
            "tensor(0.3020, dtype=torch.float64, grad_fn=<DivBackward0>)\n",
            "tensor(0.3020, dtype=torch.float64, grad_fn=<DivBackward0>)\n",
            "tensor(0.3020, dtype=torch.float64, grad_fn=<DivBackward0>)\n",
            "tensor(0.3020, dtype=torch.float64, grad_fn=<DivBackward0>)\n",
            "tensor(0.3020, dtype=torch.float64, grad_fn=<DivBackward0>)\n",
            "tensor(0.3020, dtype=torch.float64, grad_fn=<DivBackward0>)\n",
            "tensor(0.3020, dtype=torch.float64, grad_fn=<DivBackward0>)\n",
            "tensor(0.3020, dtype=torch.float64, grad_fn=<DivBackward0>)\n",
            "tensor(0.3020, dtype=torch.float64, grad_fn=<DivBackward0>)\n",
            "tensor(0.3020, dtype=torch.float64, grad_fn=<DivBackward0>)\n",
            "tensor(0.3020, dtype=torch.float64, grad_fn=<DivBackward0>)\n",
            "tensor(0.3020, dtype=torch.float64, grad_fn=<DivBackward0>)\n",
            "tensor(0.3020, dtype=torch.float64, grad_fn=<DivBackward0>)\n",
            "tensor(0.3020, dtype=torch.float64, grad_fn=<DivBackward0>)\n",
            "tensor(0.3020, dtype=torch.float64, grad_fn=<DivBackward0>)\n",
            "tensor(0.3020, dtype=torch.float64, grad_fn=<DivBackward0>)\n",
            "tensor(0.3020, dtype=torch.float64, grad_fn=<DivBackward0>)\n",
            "tensor(0.3020, dtype=torch.float64, grad_fn=<DivBackward0>)\n",
            "tensor(0.3020, dtype=torch.float64, grad_fn=<DivBackward0>)\n",
            "tensor(0.3020, dtype=torch.float64, grad_fn=<DivBackward0>)\n",
            "tensor(0.3020, dtype=torch.float64, grad_fn=<DivBackward0>)\n",
            "tensor(0.3020, dtype=torch.float64, grad_fn=<DivBackward0>)\n",
            "tensor(0.3020, dtype=torch.float64, grad_fn=<DivBackward0>)\n",
            "tensor(0.3020, dtype=torch.float64, grad_fn=<DivBackward0>)\n",
            "tensor(0.3020, dtype=torch.float64, grad_fn=<DivBackward0>)\n",
            "tensor(0.3020, dtype=torch.float64, grad_fn=<DivBackward0>)\n",
            "tensor(0.3020, dtype=torch.float64, grad_fn=<DivBackward0>)\n",
            "tensor(0.3020, dtype=torch.float64, grad_fn=<DivBackward0>)\n",
            "tensor(0.3020, dtype=torch.float64, grad_fn=<DivBackward0>)\n",
            "tensor(0.3020, dtype=torch.float64, grad_fn=<DivBackward0>)\n",
            "tensor(0.3020, dtype=torch.float64, grad_fn=<DivBackward0>)\n",
            "tensor(0.3020, dtype=torch.float64, grad_fn=<DivBackward0>)\n",
            "tensor(0.3020, dtype=torch.float64, grad_fn=<DivBackward0>)\n",
            "tensor(0.3020, dtype=torch.float64, grad_fn=<DivBackward0>)\n",
            "tensor(0.3020, dtype=torch.float64, grad_fn=<DivBackward0>)\n",
            "tensor(0.3020, dtype=torch.float64, grad_fn=<DivBackward0>)\n",
            "tensor(0.3020, dtype=torch.float64, grad_fn=<DivBackward0>)\n",
            "tensor(0.3020, dtype=torch.float64, grad_fn=<DivBackward0>)\n",
            "tensor(0.3020, dtype=torch.float64, grad_fn=<DivBackward0>)\n",
            "tensor(0.3020, dtype=torch.float64, grad_fn=<DivBackward0>)\n",
            "tensor(0.3020, dtype=torch.float64, grad_fn=<DivBackward0>)\n",
            "tensor(0.3020, dtype=torch.float64, grad_fn=<DivBackward0>)\n",
            "tensor(0.3020, dtype=torch.float64, grad_fn=<DivBackward0>)\n",
            "tensor(0.3020, dtype=torch.float64, grad_fn=<DivBackward0>)\n",
            "tensor(0.3020, dtype=torch.float64, grad_fn=<DivBackward0>)\n",
            "tensor(0.3020, dtype=torch.float64, grad_fn=<DivBackward0>)\n",
            "tensor(0.3020, dtype=torch.float64, grad_fn=<DivBackward0>)\n",
            "tensor(0.3020, dtype=torch.float64, grad_fn=<DivBackward0>)\n",
            "tensor(0.3020, dtype=torch.float64, grad_fn=<DivBackward0>)\n",
            "tensor(0.3020, dtype=torch.float64, grad_fn=<DivBackward0>)\n",
            "tensor(0.3020, dtype=torch.float64, grad_fn=<DivBackward0>)\n",
            "tensor(0.3020, dtype=torch.float64, grad_fn=<DivBackward0>)\n",
            "tensor(0.3020, dtype=torch.float64, grad_fn=<DivBackward0>)\n",
            "tensor(0.3020, dtype=torch.float64, grad_fn=<DivBackward0>)\n",
            "tensor(0.3020, dtype=torch.float64, grad_fn=<DivBackward0>)\n",
            "tensor(0.3020, dtype=torch.float64, grad_fn=<DivBackward0>)\n",
            "tensor(0.3020, dtype=torch.float64, grad_fn=<DivBackward0>)\n",
            "tensor(0.3020, dtype=torch.float64, grad_fn=<DivBackward0>)\n",
            "tensor(0.3020, dtype=torch.float64, grad_fn=<DivBackward0>)\n",
            "tensor(0.3020, dtype=torch.float64, grad_fn=<DivBackward0>)\n",
            "tensor(0.3020, dtype=torch.float64, grad_fn=<DivBackward0>)\n",
            "tensor(0.3020, dtype=torch.float64, grad_fn=<DivBackward0>)\n",
            "tensor(0.3020, dtype=torch.float64, grad_fn=<DivBackward0>)\n",
            "tensor(0.3020, dtype=torch.float64, grad_fn=<DivBackward0>)\n",
            "tensor(0.3020, dtype=torch.float64, grad_fn=<DivBackward0>)\n",
            "tensor(0.3020, dtype=torch.float64, grad_fn=<DivBackward0>)\n",
            "tensor(0.3020, dtype=torch.float64, grad_fn=<DivBackward0>)\n",
            "tensor(0.3020, dtype=torch.float64, grad_fn=<DivBackward0>)\n",
            "tensor(0.3020, dtype=torch.float64, grad_fn=<DivBackward0>)\n",
            "tensor(0.3020, dtype=torch.float64, grad_fn=<DivBackward0>)\n",
            "tensor(0.3020, dtype=torch.float64, grad_fn=<DivBackward0>)\n",
            "tensor(0.3020, dtype=torch.float64, grad_fn=<DivBackward0>)\n",
            "tensor(0.3020, dtype=torch.float64, grad_fn=<DivBackward0>)\n",
            "tensor(0.3020, dtype=torch.float64, grad_fn=<DivBackward0>)\n",
            "tensor(0.3020, dtype=torch.float64, grad_fn=<DivBackward0>)\n",
            "tensor(0.3020, dtype=torch.float64, grad_fn=<DivBackward0>)\n",
            "tensor(0.3020, dtype=torch.float64, grad_fn=<DivBackward0>)\n",
            "tensor(0.3020, dtype=torch.float64, grad_fn=<DivBackward0>)\n",
            "tensor(0.3020, dtype=torch.float64, grad_fn=<DivBackward0>)\n",
            "tensor(0.3020, dtype=torch.float64, grad_fn=<DivBackward0>)\n",
            "tensor(0.3020, dtype=torch.float64, grad_fn=<DivBackward0>)\n",
            "tensor(0.3020, dtype=torch.float64, grad_fn=<DivBackward0>)\n",
            "tensor(0.3020, dtype=torch.float64, grad_fn=<DivBackward0>)\n",
            "tensor(0.3020, dtype=torch.float64, grad_fn=<DivBackward0>)\n",
            "tensor(0.3020, dtype=torch.float64, grad_fn=<DivBackward0>)\n",
            "tensor(0.3020, dtype=torch.float64, grad_fn=<DivBackward0>)\n",
            "tensor(0.3020, dtype=torch.float64, grad_fn=<DivBackward0>)\n",
            "tensor(0.3020, dtype=torch.float64, grad_fn=<DivBackward0>)\n",
            "tensor(0.3020, dtype=torch.float64, grad_fn=<DivBackward0>)\n",
            "tensor(0.3020, dtype=torch.float64, grad_fn=<DivBackward0>)\n",
            "tensor(0.3020, dtype=torch.float64, grad_fn=<DivBackward0>)\n",
            "tensor(0.3020, dtype=torch.float64, grad_fn=<DivBackward0>)\n",
            "tensor(0.3020, dtype=torch.float64, grad_fn=<DivBackward0>)\n",
            "tensor(0.3020, dtype=torch.float64, grad_fn=<DivBackward0>)\n",
            "tensor(0.3020, dtype=torch.float64, grad_fn=<DivBackward0>)\n",
            "tensor(0.3020, dtype=torch.float64, grad_fn=<DivBackward0>)\n",
            "tensor(0.3020, dtype=torch.float64, grad_fn=<DivBackward0>)\n",
            "tensor(0.3020, dtype=torch.float64, grad_fn=<DivBackward0>)\n",
            "tensor(0.3020, dtype=torch.float64, grad_fn=<DivBackward0>)\n",
            "tensor(0.3020, dtype=torch.float64, grad_fn=<DivBackward0>)\n",
            "tensor(0.3020, dtype=torch.float64, grad_fn=<DivBackward0>)\n",
            "tensor(0.3020, dtype=torch.float64, grad_fn=<DivBackward0>)\n",
            "tensor(0.3020, dtype=torch.float64, grad_fn=<DivBackward0>)\n",
            "tensor(0.3020, dtype=torch.float64, grad_fn=<DivBackward0>)\n",
            "tensor(0.3020, dtype=torch.float64, grad_fn=<DivBackward0>)\n",
            "tensor(0.3020, dtype=torch.float64, grad_fn=<DivBackward0>)\n",
            "tensor(0.3020, dtype=torch.float64, grad_fn=<DivBackward0>)\n",
            "tensor(0.3020, dtype=torch.float64, grad_fn=<DivBackward0>)\n",
            "tensor(0.3020, dtype=torch.float64, grad_fn=<DivBackward0>)\n",
            "tensor(0.3020, dtype=torch.float64, grad_fn=<DivBackward0>)\n",
            "tensor(0.3020, dtype=torch.float64, grad_fn=<DivBackward0>)\n",
            "tensor(0.3020, dtype=torch.float64, grad_fn=<DivBackward0>)\n",
            "tensor(0.3020, dtype=torch.float64, grad_fn=<DivBackward0>)\n",
            "tensor(0.3020, dtype=torch.float64, grad_fn=<DivBackward0>)\n",
            "tensor(0.3020, dtype=torch.float64, grad_fn=<DivBackward0>)\n",
            "tensor(0.3020, dtype=torch.float64, grad_fn=<DivBackward0>)\n",
            "tensor(0.3020, dtype=torch.float64, grad_fn=<DivBackward0>)\n",
            "tensor(0.3020, dtype=torch.float64, grad_fn=<DivBackward0>)\n",
            "tensor(0.3020, dtype=torch.float64, grad_fn=<DivBackward0>)\n",
            "tensor(0.3020, dtype=torch.float64, grad_fn=<DivBackward0>)\n",
            "tensor(0.3020, dtype=torch.float64, grad_fn=<DivBackward0>)\n",
            "tensor(0.3020, dtype=torch.float64, grad_fn=<DivBackward0>)\n",
            "tensor(0.3020, dtype=torch.float64, grad_fn=<DivBackward0>)\n",
            "tensor(0.3020, dtype=torch.float64, grad_fn=<DivBackward0>)\n",
            "tensor(0.3020, dtype=torch.float64, grad_fn=<DivBackward0>)\n",
            "tensor(0.3020, dtype=torch.float64, grad_fn=<DivBackward0>)\n",
            "tensor(0.3020, dtype=torch.float64, grad_fn=<DivBackward0>)\n",
            "tensor(0.3020, dtype=torch.float64, grad_fn=<DivBackward0>)\n",
            "tensor(0.3020, dtype=torch.float64, grad_fn=<DivBackward0>)\n",
            "tensor(0.3020, dtype=torch.float64, grad_fn=<DivBackward0>)\n",
            "tensor(0.3020, dtype=torch.float64, grad_fn=<DivBackward0>)\n",
            "tensor(0.3020, dtype=torch.float64, grad_fn=<DivBackward0>)\n",
            "tensor(0.3020, dtype=torch.float64, grad_fn=<DivBackward0>)\n",
            "tensor(0.3020, dtype=torch.float64, grad_fn=<DivBackward0>)\n",
            "tensor(0.3020, dtype=torch.float64, grad_fn=<DivBackward0>)\n",
            "tensor(0.3020, dtype=torch.float64, grad_fn=<DivBackward0>)\n",
            "tensor(0.3020, dtype=torch.float64, grad_fn=<DivBackward0>)\n",
            "tensor(0.3020, dtype=torch.float64, grad_fn=<DivBackward0>)\n",
            "tensor(0.3020, dtype=torch.float64, grad_fn=<DivBackward0>)\n",
            "tensor(0.3020, dtype=torch.float64, grad_fn=<DivBackward0>)\n",
            "tensor(0.3020, dtype=torch.float64, grad_fn=<DivBackward0>)\n",
            "tensor(0.3020, dtype=torch.float64, grad_fn=<DivBackward0>)\n",
            "tensor(0.3020, dtype=torch.float64, grad_fn=<DivBackward0>)\n",
            "tensor(0.3020, dtype=torch.float64, grad_fn=<DivBackward0>)\n",
            "tensor(0.3020, dtype=torch.float64, grad_fn=<DivBackward0>)\n",
            "tensor(0.3020, dtype=torch.float64, grad_fn=<DivBackward0>)\n",
            "tensor(0.3020, dtype=torch.float64, grad_fn=<DivBackward0>)\n",
            "tensor(0.3020, dtype=torch.float64, grad_fn=<DivBackward0>)\n",
            "tensor(0.3020, dtype=torch.float64, grad_fn=<DivBackward0>)\n",
            "tensor(0.3020, dtype=torch.float64, grad_fn=<DivBackward0>)\n",
            "tensor(0.3020, dtype=torch.float64, grad_fn=<DivBackward0>)\n",
            "tensor(0.3020, dtype=torch.float64, grad_fn=<DivBackward0>)\n",
            "tensor(0.3020, dtype=torch.float64, grad_fn=<DivBackward0>)\n",
            "tensor(0.3020, dtype=torch.float64, grad_fn=<DivBackward0>)\n",
            "tensor(0.3020, dtype=torch.float64, grad_fn=<DivBackward0>)\n",
            "tensor(0.3020, dtype=torch.float64, grad_fn=<DivBackward0>)\n",
            "tensor(0.3020, dtype=torch.float64, grad_fn=<DivBackward0>)\n",
            "tensor(0.3020, dtype=torch.float64, grad_fn=<DivBackward0>)\n",
            "tensor(0.3020, dtype=torch.float64, grad_fn=<DivBackward0>)\n",
            "tensor(0.3020, dtype=torch.float64, grad_fn=<DivBackward0>)\n",
            "tensor(0.3020, dtype=torch.float64, grad_fn=<DivBackward0>)\n",
            "tensor(0.3020, dtype=torch.float64, grad_fn=<DivBackward0>)\n",
            "tensor(0.3020, dtype=torch.float64, grad_fn=<DivBackward0>)\n",
            "tensor(0.3020, dtype=torch.float64, grad_fn=<DivBackward0>)\n",
            "tensor(0.3020, dtype=torch.float64, grad_fn=<DivBackward0>)\n",
            "tensor(0.3020, dtype=torch.float64, grad_fn=<DivBackward0>)\n",
            "tensor(0.3020, dtype=torch.float64, grad_fn=<DivBackward0>)\n",
            "tensor(0.3020, dtype=torch.float64, grad_fn=<DivBackward0>)\n",
            "tensor(0.3020, dtype=torch.float64, grad_fn=<DivBackward0>)\n",
            "tensor(0.3020, dtype=torch.float64, grad_fn=<DivBackward0>)\n",
            "tensor(0.3020, dtype=torch.float64, grad_fn=<DivBackward0>)\n",
            "tensor(0.3020, dtype=torch.float64, grad_fn=<DivBackward0>)\n",
            "tensor(0.3020, dtype=torch.float64, grad_fn=<DivBackward0>)\n",
            "tensor(0.3020, dtype=torch.float64, grad_fn=<DivBackward0>)\n",
            "tensor(0.3020, dtype=torch.float64, grad_fn=<DivBackward0>)\n",
            "tensor(0.3020, dtype=torch.float64, grad_fn=<DivBackward0>)\n",
            "tensor(0.3020, dtype=torch.float64, grad_fn=<DivBackward0>)\n",
            "tensor(0.3020, dtype=torch.float64, grad_fn=<DivBackward0>)\n",
            "tensor(0.3020, dtype=torch.float64, grad_fn=<DivBackward0>)\n",
            "tensor(0.3020, dtype=torch.float64, grad_fn=<DivBackward0>)\n",
            "tensor(0.3020, dtype=torch.float64, grad_fn=<DivBackward0>)\n",
            "tensor(0.3020, dtype=torch.float64, grad_fn=<DivBackward0>)\n",
            "tensor(0.3020, dtype=torch.float64, grad_fn=<DivBackward0>)\n",
            "tensor(0.3020, dtype=torch.float64, grad_fn=<DivBackward0>)\n",
            "tensor(0.3020, dtype=torch.float64, grad_fn=<DivBackward0>)\n",
            "tensor(0.3020, dtype=torch.float64, grad_fn=<DivBackward0>)\n",
            "tensor(0.3020, dtype=torch.float64, grad_fn=<DivBackward0>)\n",
            "tensor(0.3020, dtype=torch.float64, grad_fn=<DivBackward0>)\n",
            "tensor(0.3020, dtype=torch.float64, grad_fn=<DivBackward0>)\n",
            "tensor(0.3020, dtype=torch.float64, grad_fn=<DivBackward0>)\n",
            "tensor(0.3020, dtype=torch.float64, grad_fn=<DivBackward0>)\n",
            "tensor(0.3020, dtype=torch.float64, grad_fn=<DivBackward0>)\n",
            "tensor(0.3020, dtype=torch.float64, grad_fn=<DivBackward0>)\n",
            "tensor(0.3020, dtype=torch.float64, grad_fn=<DivBackward0>)\n",
            "tensor(0.3020, dtype=torch.float64, grad_fn=<DivBackward0>)\n",
            "tensor(0.3020, dtype=torch.float64, grad_fn=<DivBackward0>)\n",
            "tensor(0.3020, dtype=torch.float64, grad_fn=<DivBackward0>)\n",
            "tensor(0.3020, dtype=torch.float64, grad_fn=<DivBackward0>)\n",
            "tensor(0.3020, dtype=torch.float64, grad_fn=<DivBackward0>)\n",
            "tensor(0.3020, dtype=torch.float64, grad_fn=<DivBackward0>)\n",
            "tensor(0.3020, dtype=torch.float64, grad_fn=<DivBackward0>)\n",
            "tensor(0.3020, dtype=torch.float64, grad_fn=<DivBackward0>)\n",
            "tensor(0.3020, dtype=torch.float64, grad_fn=<DivBackward0>)\n",
            "tensor(0.3020, dtype=torch.float64, grad_fn=<DivBackward0>)\n",
            "tensor(0.3020, dtype=torch.float64, grad_fn=<DivBackward0>)\n",
            "tensor(0.3020, dtype=torch.float64, grad_fn=<DivBackward0>)\n",
            "tensor(0.3020, dtype=torch.float64, grad_fn=<DivBackward0>)\n",
            "tensor(0.3020, dtype=torch.float64, grad_fn=<DivBackward0>)\n",
            "tensor(0.3019, dtype=torch.float64, grad_fn=<DivBackward0>)\n",
            "tensor(0.3019, dtype=torch.float64, grad_fn=<DivBackward0>)\n",
            "tensor(0.3019, dtype=torch.float64, grad_fn=<DivBackward0>)\n",
            "tensor(0.3019, dtype=torch.float64, grad_fn=<DivBackward0>)\n",
            "tensor(0.3019, dtype=torch.float64, grad_fn=<DivBackward0>)\n",
            "tensor(0.3019, dtype=torch.float64, grad_fn=<DivBackward0>)\n",
            "tensor(0.3019, dtype=torch.float64, grad_fn=<DivBackward0>)\n",
            "tensor(0.3019, dtype=torch.float64, grad_fn=<DivBackward0>)\n",
            "tensor(0.3019, dtype=torch.float64, grad_fn=<DivBackward0>)\n",
            "tensor(0.3019, dtype=torch.float64, grad_fn=<DivBackward0>)\n",
            "tensor(0.3019, dtype=torch.float64, grad_fn=<DivBackward0>)\n",
            "tensor(0.3019, dtype=torch.float64, grad_fn=<DivBackward0>)\n",
            "tensor(0.3019, dtype=torch.float64, grad_fn=<DivBackward0>)\n",
            "tensor(0.3019, dtype=torch.float64, grad_fn=<DivBackward0>)\n",
            "tensor(0.3019, dtype=torch.float64, grad_fn=<DivBackward0>)\n",
            "tensor(0.3019, dtype=torch.float64, grad_fn=<DivBackward0>)\n",
            "tensor(0.3019, dtype=torch.float64, grad_fn=<DivBackward0>)\n",
            "tensor(0.3019, dtype=torch.float64, grad_fn=<DivBackward0>)\n",
            "tensor(0.3019, dtype=torch.float64, grad_fn=<DivBackward0>)\n",
            "tensor(0.3019, dtype=torch.float64, grad_fn=<DivBackward0>)\n",
            "tensor(0.3019, dtype=torch.float64, grad_fn=<DivBackward0>)\n",
            "tensor(0.3019, dtype=torch.float64, grad_fn=<DivBackward0>)\n",
            "tensor(0.3019, dtype=torch.float64, grad_fn=<DivBackward0>)\n",
            "tensor(0.3019, dtype=torch.float64, grad_fn=<DivBackward0>)\n",
            "tensor(0.3019, dtype=torch.float64, grad_fn=<DivBackward0>)\n",
            "tensor(0.3019, dtype=torch.float64, grad_fn=<DivBackward0>)\n",
            "tensor(0.3019, dtype=torch.float64, grad_fn=<DivBackward0>)\n",
            "tensor(0.3019, dtype=torch.float64, grad_fn=<DivBackward0>)\n",
            "tensor(0.3019, dtype=torch.float64, grad_fn=<DivBackward0>)\n",
            "tensor(0.3019, dtype=torch.float64, grad_fn=<DivBackward0>)\n",
            "tensor(0.3019, dtype=torch.float64, grad_fn=<DivBackward0>)\n",
            "tensor(0.3019, dtype=torch.float64, grad_fn=<DivBackward0>)\n",
            "tensor(0.3019, dtype=torch.float64, grad_fn=<DivBackward0>)\n",
            "tensor(0.3019, dtype=torch.float64, grad_fn=<DivBackward0>)\n",
            "tensor(0.3019, dtype=torch.float64, grad_fn=<DivBackward0>)\n",
            "tensor(0.3019, dtype=torch.float64, grad_fn=<DivBackward0>)\n",
            "tensor(0.3019, dtype=torch.float64, grad_fn=<DivBackward0>)\n",
            "tensor(0.3019, dtype=torch.float64, grad_fn=<DivBackward0>)\n",
            "tensor(0.3019, dtype=torch.float64, grad_fn=<DivBackward0>)\n",
            "tensor(0.3019, dtype=torch.float64, grad_fn=<DivBackward0>)\n",
            "tensor(0.3019, dtype=torch.float64, grad_fn=<DivBackward0>)\n",
            "tensor(0.3019, dtype=torch.float64, grad_fn=<DivBackward0>)\n",
            "tensor(0.3019, dtype=torch.float64, grad_fn=<DivBackward0>)\n",
            "tensor(0.3019, dtype=torch.float64, grad_fn=<DivBackward0>)\n",
            "tensor(0.3019, dtype=torch.float64, grad_fn=<DivBackward0>)\n",
            "tensor(0.3019, dtype=torch.float64, grad_fn=<DivBackward0>)\n",
            "tensor(0.3019, dtype=torch.float64, grad_fn=<DivBackward0>)\n",
            "tensor(0.3019, dtype=torch.float64, grad_fn=<DivBackward0>)\n",
            "tensor(0.3019, dtype=torch.float64, grad_fn=<DivBackward0>)\n",
            "tensor(0.3019, dtype=torch.float64, grad_fn=<DivBackward0>)\n",
            "tensor(0.3019, dtype=torch.float64, grad_fn=<DivBackward0>)\n",
            "tensor(0.3019, dtype=torch.float64, grad_fn=<DivBackward0>)\n",
            "tensor(0.3019, dtype=torch.float64, grad_fn=<DivBackward0>)\n",
            "tensor(0.3019, dtype=torch.float64, grad_fn=<DivBackward0>)\n",
            "tensor(0.3019, dtype=torch.float64, grad_fn=<DivBackward0>)\n",
            "tensor(0.3019, dtype=torch.float64, grad_fn=<DivBackward0>)\n",
            "tensor(0.3019, dtype=torch.float64, grad_fn=<DivBackward0>)\n",
            "tensor(0.3019, dtype=torch.float64, grad_fn=<DivBackward0>)\n",
            "tensor(0.3019, dtype=torch.float64, grad_fn=<DivBackward0>)\n",
            "tensor(0.3019, dtype=torch.float64, grad_fn=<DivBackward0>)\n",
            "tensor(0.3019, dtype=torch.float64, grad_fn=<DivBackward0>)\n",
            "tensor(0.3019, dtype=torch.float64, grad_fn=<DivBackward0>)\n",
            "tensor(0.3019, dtype=torch.float64, grad_fn=<DivBackward0>)\n",
            "tensor(0.3019, dtype=torch.float64, grad_fn=<DivBackward0>)\n",
            "tensor(0.3019, dtype=torch.float64, grad_fn=<DivBackward0>)\n",
            "tensor(0.3019, dtype=torch.float64, grad_fn=<DivBackward0>)\n",
            "tensor(0.3019, dtype=torch.float64, grad_fn=<DivBackward0>)\n",
            "tensor(0.3019, dtype=torch.float64, grad_fn=<DivBackward0>)\n",
            "tensor(0.3019, dtype=torch.float64, grad_fn=<DivBackward0>)\n",
            "tensor(0.3019, dtype=torch.float64, grad_fn=<DivBackward0>)\n",
            "tensor(0.3019, dtype=torch.float64, grad_fn=<DivBackward0>)\n",
            "tensor(0.3019, dtype=torch.float64, grad_fn=<DivBackward0>)\n",
            "tensor(0.3019, dtype=torch.float64, grad_fn=<DivBackward0>)\n",
            "tensor(0.3019, dtype=torch.float64, grad_fn=<DivBackward0>)\n",
            "tensor(0.3019, dtype=torch.float64, grad_fn=<DivBackward0>)\n",
            "tensor(0.3019, dtype=torch.float64, grad_fn=<DivBackward0>)\n",
            "tensor(0.3019, dtype=torch.float64, grad_fn=<DivBackward0>)\n",
            "tensor(0.3019, dtype=torch.float64, grad_fn=<DivBackward0>)\n",
            "tensor(0.3019, dtype=torch.float64, grad_fn=<DivBackward0>)\n",
            "tensor(0.3019, dtype=torch.float64, grad_fn=<DivBackward0>)\n",
            "tensor(0.3019, dtype=torch.float64, grad_fn=<DivBackward0>)\n",
            "tensor(0.3019, dtype=torch.float64, grad_fn=<DivBackward0>)\n",
            "tensor(0.3019, dtype=torch.float64, grad_fn=<DivBackward0>)\n",
            "tensor(0.3019, dtype=torch.float64, grad_fn=<DivBackward0>)\n",
            "tensor(0.3019, dtype=torch.float64, grad_fn=<DivBackward0>)\n",
            "tensor(0.3019, dtype=torch.float64, grad_fn=<DivBackward0>)\n",
            "tensor(0.3019, dtype=torch.float64, grad_fn=<DivBackward0>)\n",
            "tensor(0.3019, dtype=torch.float64, grad_fn=<DivBackward0>)\n",
            "tensor(0.3019, dtype=torch.float64, grad_fn=<DivBackward0>)\n",
            "tensor(0.3019, dtype=torch.float64, grad_fn=<DivBackward0>)\n",
            "tensor(0.3019, dtype=torch.float64, grad_fn=<DivBackward0>)\n",
            "tensor(0.3019, dtype=torch.float64, grad_fn=<DivBackward0>)\n",
            "tensor(0.3019, dtype=torch.float64, grad_fn=<DivBackward0>)\n",
            "tensor(0.3019, dtype=torch.float64, grad_fn=<DivBackward0>)\n",
            "tensor(0.3019, dtype=torch.float64, grad_fn=<DivBackward0>)\n",
            "tensor(0.3019, dtype=torch.float64, grad_fn=<DivBackward0>)\n",
            "tensor(0.3019, dtype=torch.float64, grad_fn=<DivBackward0>)\n",
            "tensor(0.3019, dtype=torch.float64, grad_fn=<DivBackward0>)\n",
            "tensor(0.3019, dtype=torch.float64, grad_fn=<DivBackward0>)\n",
            "tensor(0.3019, dtype=torch.float64, grad_fn=<DivBackward0>)\n",
            "tensor(0.3019, dtype=torch.float64, grad_fn=<DivBackward0>)\n",
            "tensor(0.3019, dtype=torch.float64, grad_fn=<DivBackward0>)\n",
            "tensor(0.3019, dtype=torch.float64, grad_fn=<DivBackward0>)\n",
            "tensor(0.3019, dtype=torch.float64, grad_fn=<DivBackward0>)\n",
            "tensor(0.3019, dtype=torch.float64, grad_fn=<DivBackward0>)\n",
            "tensor(0.3019, dtype=torch.float64, grad_fn=<DivBackward0>)\n",
            "tensor(0.3019, dtype=torch.float64, grad_fn=<DivBackward0>)\n",
            "tensor(0.3019, dtype=torch.float64, grad_fn=<DivBackward0>)\n",
            "tensor(0.3019, dtype=torch.float64, grad_fn=<DivBackward0>)\n",
            "tensor(0.3019, dtype=torch.float64, grad_fn=<DivBackward0>)\n",
            "tensor(0.3019, dtype=torch.float64, grad_fn=<DivBackward0>)\n",
            "tensor(0.3019, dtype=torch.float64, grad_fn=<DivBackward0>)\n",
            "tensor(0.3019, dtype=torch.float64, grad_fn=<DivBackward0>)\n",
            "tensor(0.3019, dtype=torch.float64, grad_fn=<DivBackward0>)\n",
            "tensor(0.3019, dtype=torch.float64, grad_fn=<DivBackward0>)\n",
            "tensor(0.3019, dtype=torch.float64, grad_fn=<DivBackward0>)\n",
            "tensor(0.3019, dtype=torch.float64, grad_fn=<DivBackward0>)\n",
            "tensor(0.3019, dtype=torch.float64, grad_fn=<DivBackward0>)\n",
            "tensor(0.3019, dtype=torch.float64, grad_fn=<DivBackward0>)\n",
            "tensor(0.3019, dtype=torch.float64, grad_fn=<DivBackward0>)\n",
            "tensor(0.3019, dtype=torch.float64, grad_fn=<DivBackward0>)\n",
            "tensor(0.3019, dtype=torch.float64, grad_fn=<DivBackward0>)\n",
            "tensor(0.3019, dtype=torch.float64, grad_fn=<DivBackward0>)\n",
            "tensor(0.3019, dtype=torch.float64, grad_fn=<DivBackward0>)\n",
            "tensor(0.3019, dtype=torch.float64, grad_fn=<DivBackward0>)\n",
            "tensor(0.3019, dtype=torch.float64, grad_fn=<DivBackward0>)\n",
            "tensor(0.3019, dtype=torch.float64, grad_fn=<DivBackward0>)\n",
            "tensor(0.3019, dtype=torch.float64, grad_fn=<DivBackward0>)\n",
            "tensor(0.3019, dtype=torch.float64, grad_fn=<DivBackward0>)\n",
            "tensor(0.3019, dtype=torch.float64, grad_fn=<DivBackward0>)\n",
            "tensor(0.3019, dtype=torch.float64, grad_fn=<DivBackward0>)\n",
            "tensor(0.3019, dtype=torch.float64, grad_fn=<DivBackward0>)\n",
            "tensor(0.3019, dtype=torch.float64, grad_fn=<DivBackward0>)\n",
            "tensor(0.3019, dtype=torch.float64, grad_fn=<DivBackward0>)\n",
            "tensor(0.3019, dtype=torch.float64, grad_fn=<DivBackward0>)\n",
            "tensor(0.3019, dtype=torch.float64, grad_fn=<DivBackward0>)\n",
            "tensor(0.3019, dtype=torch.float64, grad_fn=<DivBackward0>)\n",
            "tensor(0.3019, dtype=torch.float64, grad_fn=<DivBackward0>)\n",
            "tensor(0.3019, dtype=torch.float64, grad_fn=<DivBackward0>)\n",
            "tensor(0.3019, dtype=torch.float64, grad_fn=<DivBackward0>)\n",
            "tensor(0.3019, dtype=torch.float64, grad_fn=<DivBackward0>)\n",
            "tensor(0.3019, dtype=torch.float64, grad_fn=<DivBackward0>)\n",
            "tensor(0.3019, dtype=torch.float64, grad_fn=<DivBackward0>)\n",
            "tensor(0.3019, dtype=torch.float64, grad_fn=<DivBackward0>)\n",
            "tensor(0.3019, dtype=torch.float64, grad_fn=<DivBackward0>)\n",
            "tensor(0.3019, dtype=torch.float64, grad_fn=<DivBackward0>)\n",
            "tensor(0.3019, dtype=torch.float64, grad_fn=<DivBackward0>)\n",
            "tensor(0.3019, dtype=torch.float64, grad_fn=<DivBackward0>)\n",
            "tensor(0.3019, dtype=torch.float64, grad_fn=<DivBackward0>)\n",
            "tensor(0.3019, dtype=torch.float64, grad_fn=<DivBackward0>)\n",
            "tensor(0.3019, dtype=torch.float64, grad_fn=<DivBackward0>)\n",
            "tensor(0.3019, dtype=torch.float64, grad_fn=<DivBackward0>)\n",
            "tensor(0.3019, dtype=torch.float64, grad_fn=<DivBackward0>)\n",
            "tensor(0.3019, dtype=torch.float64, grad_fn=<DivBackward0>)\n",
            "tensor(0.3019, dtype=torch.float64, grad_fn=<DivBackward0>)\n",
            "tensor(0.3019, dtype=torch.float64, grad_fn=<DivBackward0>)\n",
            "tensor(0.3019, dtype=torch.float64, grad_fn=<DivBackward0>)\n",
            "tensor(0.3019, dtype=torch.float64, grad_fn=<DivBackward0>)\n",
            "tensor(0.3019, dtype=torch.float64, grad_fn=<DivBackward0>)\n",
            "tensor(0.3019, dtype=torch.float64, grad_fn=<DivBackward0>)\n",
            "tensor(0.3019, dtype=torch.float64, grad_fn=<DivBackward0>)\n",
            "tensor(0.3019, dtype=torch.float64, grad_fn=<DivBackward0>)\n",
            "tensor(0.3019, dtype=torch.float64, grad_fn=<DivBackward0>)\n",
            "tensor(0.3019, dtype=torch.float64, grad_fn=<DivBackward0>)\n",
            "tensor(0.3019, dtype=torch.float64, grad_fn=<DivBackward0>)\n",
            "tensor(0.3019, dtype=torch.float64, grad_fn=<DivBackward0>)\n",
            "tensor(0.3019, dtype=torch.float64, grad_fn=<DivBackward0>)\n",
            "tensor(0.3019, dtype=torch.float64, grad_fn=<DivBackward0>)\n",
            "tensor(0.3019, dtype=torch.float64, grad_fn=<DivBackward0>)\n",
            "tensor(0.3019, dtype=torch.float64, grad_fn=<DivBackward0>)\n",
            "tensor(0.3019, dtype=torch.float64, grad_fn=<DivBackward0>)\n",
            "tensor(0.3019, dtype=torch.float64, grad_fn=<DivBackward0>)\n",
            "tensor(0.3019, dtype=torch.float64, grad_fn=<DivBackward0>)\n",
            "tensor(0.3019, dtype=torch.float64, grad_fn=<DivBackward0>)\n",
            "tensor(0.3019, dtype=torch.float64, grad_fn=<DivBackward0>)\n",
            "tensor(0.3019, dtype=torch.float64, grad_fn=<DivBackward0>)\n",
            "tensor(0.3019, dtype=torch.float64, grad_fn=<DivBackward0>)\n",
            "tensor(0.3019, dtype=torch.float64, grad_fn=<DivBackward0>)\n",
            "tensor(0.3019, dtype=torch.float64, grad_fn=<DivBackward0>)\n",
            "tensor(0.3019, dtype=torch.float64, grad_fn=<DivBackward0>)\n",
            "tensor(0.3019, dtype=torch.float64, grad_fn=<DivBackward0>)\n",
            "tensor(0.3019, dtype=torch.float64, grad_fn=<DivBackward0>)\n",
            "tensor(0.3019, dtype=torch.float64, grad_fn=<DivBackward0>)\n",
            "tensor(0.3019, dtype=torch.float64, grad_fn=<DivBackward0>)\n",
            "tensor(0.3019, dtype=torch.float64, grad_fn=<DivBackward0>)\n",
            "tensor(0.3019, dtype=torch.float64, grad_fn=<DivBackward0>)\n",
            "tensor(0.3019, dtype=torch.float64, grad_fn=<DivBackward0>)\n",
            "tensor(0.3019, dtype=torch.float64, grad_fn=<DivBackward0>)\n",
            "tensor(0.3019, dtype=torch.float64, grad_fn=<DivBackward0>)\n",
            "tensor(0.3019, dtype=torch.float64, grad_fn=<DivBackward0>)\n",
            "tensor(0.3019, dtype=torch.float64, grad_fn=<DivBackward0>)\n",
            "tensor(0.3019, dtype=torch.float64, grad_fn=<DivBackward0>)\n",
            "tensor(0.3019, dtype=torch.float64, grad_fn=<DivBackward0>)\n",
            "tensor(0.3019, dtype=torch.float64, grad_fn=<DivBackward0>)\n",
            "tensor(0.3019, dtype=torch.float64, grad_fn=<DivBackward0>)\n",
            "tensor(0.3019, dtype=torch.float64, grad_fn=<DivBackward0>)\n",
            "tensor(0.3019, dtype=torch.float64, grad_fn=<DivBackward0>)\n",
            "tensor(0.3019, dtype=torch.float64, grad_fn=<DivBackward0>)\n",
            "tensor(0.3019, dtype=torch.float64, grad_fn=<DivBackward0>)\n",
            "tensor(0.3019, dtype=torch.float64, grad_fn=<DivBackward0>)\n",
            "tensor(0.3019, dtype=torch.float64, grad_fn=<DivBackward0>)\n",
            "tensor(0.3019, dtype=torch.float64, grad_fn=<DivBackward0>)\n",
            "tensor(0.3019, dtype=torch.float64, grad_fn=<DivBackward0>)\n",
            "tensor(0.3019, dtype=torch.float64, grad_fn=<DivBackward0>)\n",
            "tensor(0.3019, dtype=torch.float64, grad_fn=<DivBackward0>)\n",
            "tensor(0.3019, dtype=torch.float64, grad_fn=<DivBackward0>)\n",
            "tensor(0.3019, dtype=torch.float64, grad_fn=<DivBackward0>)\n",
            "tensor(0.3019, dtype=torch.float64, grad_fn=<DivBackward0>)\n",
            "tensor(0.3019, dtype=torch.float64, grad_fn=<DivBackward0>)\n",
            "tensor(0.3019, dtype=torch.float64, grad_fn=<DivBackward0>)\n",
            "tensor(0.3019, dtype=torch.float64, grad_fn=<DivBackward0>)\n",
            "tensor(0.3019, dtype=torch.float64, grad_fn=<DivBackward0>)\n",
            "tensor(0.3019, dtype=torch.float64, grad_fn=<DivBackward0>)\n",
            "tensor(0.3019, dtype=torch.float64, grad_fn=<DivBackward0>)\n",
            "tensor(0.3019, dtype=torch.float64, grad_fn=<DivBackward0>)\n",
            "tensor(0.3019, dtype=torch.float64, grad_fn=<DivBackward0>)\n",
            "tensor(0.3019, dtype=torch.float64, grad_fn=<DivBackward0>)\n",
            "tensor(0.3019, dtype=torch.float64, grad_fn=<DivBackward0>)\n",
            "tensor(0.3019, dtype=torch.float64, grad_fn=<DivBackward0>)\n",
            "tensor(0.3019, dtype=torch.float64, grad_fn=<DivBackward0>)\n",
            "tensor(0.3019, dtype=torch.float64, grad_fn=<DivBackward0>)\n",
            "tensor(0.3019, dtype=torch.float64, grad_fn=<DivBackward0>)\n",
            "tensor(0.3019, dtype=torch.float64, grad_fn=<DivBackward0>)\n",
            "tensor(0.3019, dtype=torch.float64, grad_fn=<DivBackward0>)\n",
            "tensor(0.3019, dtype=torch.float64, grad_fn=<DivBackward0>)\n",
            "tensor(0.3019, dtype=torch.float64, grad_fn=<DivBackward0>)\n",
            "tensor(0.3019, dtype=torch.float64, grad_fn=<DivBackward0>)\n",
            "tensor(0.3019, dtype=torch.float64, grad_fn=<DivBackward0>)\n",
            "tensor(0.3019, dtype=torch.float64, grad_fn=<DivBackward0>)\n",
            "tensor(0.3019, dtype=torch.float64, grad_fn=<DivBackward0>)\n",
            "tensor(0.3019, dtype=torch.float64, grad_fn=<DivBackward0>)\n",
            "tensor(0.3019, dtype=torch.float64, grad_fn=<DivBackward0>)\n",
            "tensor(0.3019, dtype=torch.float64, grad_fn=<DivBackward0>)\n",
            "tensor(0.3019, dtype=torch.float64, grad_fn=<DivBackward0>)\n",
            "tensor(0.3019, dtype=torch.float64, grad_fn=<DivBackward0>)\n",
            "tensor(0.3019, dtype=torch.float64, grad_fn=<DivBackward0>)\n",
            "tensor(0.3019, dtype=torch.float64, grad_fn=<DivBackward0>)\n",
            "tensor(0.3019, dtype=torch.float64, grad_fn=<DivBackward0>)\n",
            "tensor(0.3019, dtype=torch.float64, grad_fn=<DivBackward0>)\n",
            "tensor(0.3019, dtype=torch.float64, grad_fn=<DivBackward0>)\n",
            "tensor(0.3019, dtype=torch.float64, grad_fn=<DivBackward0>)\n",
            "tensor(0.3019, dtype=torch.float64, grad_fn=<DivBackward0>)\n",
            "tensor(0.3019, dtype=torch.float64, grad_fn=<DivBackward0>)\n",
            "tensor(0.3019, dtype=torch.float64, grad_fn=<DivBackward0>)\n",
            "tensor(0.3019, dtype=torch.float64, grad_fn=<DivBackward0>)\n",
            "tensor(0.3019, dtype=torch.float64, grad_fn=<DivBackward0>)\n",
            "tensor(0.3019, dtype=torch.float64, grad_fn=<DivBackward0>)\n",
            "tensor(0.3019, dtype=torch.float64, grad_fn=<DivBackward0>)\n",
            "tensor(0.3019, dtype=torch.float64, grad_fn=<DivBackward0>)\n",
            "tensor(0.3019, dtype=torch.float64, grad_fn=<DivBackward0>)\n",
            "tensor(0.3019, dtype=torch.float64, grad_fn=<DivBackward0>)\n",
            "tensor(0.3019, dtype=torch.float64, grad_fn=<DivBackward0>)\n",
            "tensor(0.3019, dtype=torch.float64, grad_fn=<DivBackward0>)\n",
            "tensor(0.3019, dtype=torch.float64, grad_fn=<DivBackward0>)\n",
            "tensor(0.3019, dtype=torch.float64, grad_fn=<DivBackward0>)\n",
            "tensor(0.3019, dtype=torch.float64, grad_fn=<DivBackward0>)\n",
            "tensor(0.3019, dtype=torch.float64, grad_fn=<DivBackward0>)\n",
            "tensor(0.3019, dtype=torch.float64, grad_fn=<DivBackward0>)\n",
            "tensor(0.3019, dtype=torch.float64, grad_fn=<DivBackward0>)\n",
            "tensor(0.3019, dtype=torch.float64, grad_fn=<DivBackward0>)\n",
            "tensor(0.3019, dtype=torch.float64, grad_fn=<DivBackward0>)\n",
            "tensor(0.3019, dtype=torch.float64, grad_fn=<DivBackward0>)\n",
            "tensor(0.3019, dtype=torch.float64, grad_fn=<DivBackward0>)\n",
            "tensor(0.3019, dtype=torch.float64, grad_fn=<DivBackward0>)\n",
            "tensor(0.3019, dtype=torch.float64, grad_fn=<DivBackward0>)\n",
            "tensor(0.3019, dtype=torch.float64, grad_fn=<DivBackward0>)\n",
            "tensor(0.3019, dtype=torch.float64, grad_fn=<DivBackward0>)\n",
            "tensor(0.3019, dtype=torch.float64, grad_fn=<DivBackward0>)\n",
            "tensor(0.3019, dtype=torch.float64, grad_fn=<DivBackward0>)\n",
            "tensor(0.3019, dtype=torch.float64, grad_fn=<DivBackward0>)\n",
            "tensor(0.3019, dtype=torch.float64, grad_fn=<DivBackward0>)\n",
            "tensor(0.3019, dtype=torch.float64, grad_fn=<DivBackward0>)\n",
            "tensor(0.3019, dtype=torch.float64, grad_fn=<DivBackward0>)\n",
            "tensor(0.3019, dtype=torch.float64, grad_fn=<DivBackward0>)\n",
            "tensor(0.3019, dtype=torch.float64, grad_fn=<DivBackward0>)\n",
            "tensor(0.3019, dtype=torch.float64, grad_fn=<DivBackward0>)\n",
            "tensor(0.3019, dtype=torch.float64, grad_fn=<DivBackward0>)\n",
            "tensor(0.3019, dtype=torch.float64, grad_fn=<DivBackward0>)\n",
            "tensor(0.3019, dtype=torch.float64, grad_fn=<DivBackward0>)\n",
            "tensor(0.3019, dtype=torch.float64, grad_fn=<DivBackward0>)\n",
            "tensor(0.3019, dtype=torch.float64, grad_fn=<DivBackward0>)\n",
            "tensor(0.3019, dtype=torch.float64, grad_fn=<DivBackward0>)\n",
            "tensor(0.3019, dtype=torch.float64, grad_fn=<DivBackward0>)\n",
            "tensor(0.3019, dtype=torch.float64, grad_fn=<DivBackward0>)\n",
            "tensor(0.3019, dtype=torch.float64, grad_fn=<DivBackward0>)\n",
            "tensor(0.3019, dtype=torch.float64, grad_fn=<DivBackward0>)\n",
            "tensor(0.3019, dtype=torch.float64, grad_fn=<DivBackward0>)\n",
            "tensor(0.3019, dtype=torch.float64, grad_fn=<DivBackward0>)\n",
            "tensor(0.3019, dtype=torch.float64, grad_fn=<DivBackward0>)\n",
            "tensor(0.3019, dtype=torch.float64, grad_fn=<DivBackward0>)\n",
            "tensor(0.3018, dtype=torch.float64, grad_fn=<DivBackward0>)\n",
            "tensor(0.3018, dtype=torch.float64, grad_fn=<DivBackward0>)\n",
            "tensor(0.3018, dtype=torch.float64, grad_fn=<DivBackward0>)\n",
            "tensor(0.3018, dtype=torch.float64, grad_fn=<DivBackward0>)\n",
            "tensor(0.3018, dtype=torch.float64, grad_fn=<DivBackward0>)\n",
            "tensor(0.3018, dtype=torch.float64, grad_fn=<DivBackward0>)\n",
            "tensor(0.3018, dtype=torch.float64, grad_fn=<DivBackward0>)\n",
            "tensor(0.3018, dtype=torch.float64, grad_fn=<DivBackward0>)\n",
            "tensor(0.3018, dtype=torch.float64, grad_fn=<DivBackward0>)\n",
            "tensor(0.3018, dtype=torch.float64, grad_fn=<DivBackward0>)\n",
            "tensor(0.3018, dtype=torch.float64, grad_fn=<DivBackward0>)\n",
            "tensor(0.3018, dtype=torch.float64, grad_fn=<DivBackward0>)\n",
            "tensor(0.3018, dtype=torch.float64, grad_fn=<DivBackward0>)\n",
            "tensor(0.3018, dtype=torch.float64, grad_fn=<DivBackward0>)\n",
            "tensor(0.3018, dtype=torch.float64, grad_fn=<DivBackward0>)\n",
            "tensor(0.3018, dtype=torch.float64, grad_fn=<DivBackward0>)\n",
            "tensor(0.3018, dtype=torch.float64, grad_fn=<DivBackward0>)\n",
            "tensor(0.3018, dtype=torch.float64, grad_fn=<DivBackward0>)\n",
            "tensor(0.3018, dtype=torch.float64, grad_fn=<DivBackward0>)\n",
            "tensor(0.3018, dtype=torch.float64, grad_fn=<DivBackward0>)\n",
            "tensor(0.3018, dtype=torch.float64, grad_fn=<DivBackward0>)\n",
            "tensor(0.3018, dtype=torch.float64, grad_fn=<DivBackward0>)\n",
            "tensor(0.3018, dtype=torch.float64, grad_fn=<DivBackward0>)\n",
            "tensor(0.3018, dtype=torch.float64, grad_fn=<DivBackward0>)\n",
            "tensor(0.3018, dtype=torch.float64, grad_fn=<DivBackward0>)\n",
            "tensor(0.3018, dtype=torch.float64, grad_fn=<DivBackward0>)\n",
            "tensor(0.3018, dtype=torch.float64, grad_fn=<DivBackward0>)\n",
            "tensor(0.3018, dtype=torch.float64, grad_fn=<DivBackward0>)\n",
            "tensor(0.3018, dtype=torch.float64, grad_fn=<DivBackward0>)\n",
            "tensor(0.3018, dtype=torch.float64, grad_fn=<DivBackward0>)\n",
            "tensor(0.3018, dtype=torch.float64, grad_fn=<DivBackward0>)\n",
            "tensor(0.3018, dtype=torch.float64, grad_fn=<DivBackward0>)\n",
            "tensor(0.3018, dtype=torch.float64, grad_fn=<DivBackward0>)\n",
            "tensor(0.3018, dtype=torch.float64, grad_fn=<DivBackward0>)\n",
            "tensor(0.3018, dtype=torch.float64, grad_fn=<DivBackward0>)\n",
            "tensor(0.3018, dtype=torch.float64, grad_fn=<DivBackward0>)\n",
            "tensor(0.3018, dtype=torch.float64, grad_fn=<DivBackward0>)\n",
            "tensor(0.3018, dtype=torch.float64, grad_fn=<DivBackward0>)\n",
            "tensor(0.3018, dtype=torch.float64, grad_fn=<DivBackward0>)\n",
            "tensor(0.3018, dtype=torch.float64, grad_fn=<DivBackward0>)\n",
            "tensor(0.3018, dtype=torch.float64, grad_fn=<DivBackward0>)\n",
            "tensor(0.3018, dtype=torch.float64, grad_fn=<DivBackward0>)\n",
            "tensor(0.3018, dtype=torch.float64, grad_fn=<DivBackward0>)\n",
            "tensor(0.3018, dtype=torch.float64, grad_fn=<DivBackward0>)\n",
            "tensor(0.3018, dtype=torch.float64, grad_fn=<DivBackward0>)\n",
            "tensor(0.3018, dtype=torch.float64, grad_fn=<DivBackward0>)\n",
            "tensor(0.3018, dtype=torch.float64, grad_fn=<DivBackward0>)\n",
            "tensor(0.3018, dtype=torch.float64, grad_fn=<DivBackward0>)\n",
            "tensor(0.3018, dtype=torch.float64, grad_fn=<DivBackward0>)\n",
            "tensor(0.3018, dtype=torch.float64, grad_fn=<DivBackward0>)\n",
            "tensor(0.3018, dtype=torch.float64, grad_fn=<DivBackward0>)\n",
            "tensor(0.3018, dtype=torch.float64, grad_fn=<DivBackward0>)\n",
            "tensor(0.3018, dtype=torch.float64, grad_fn=<DivBackward0>)\n",
            "tensor(0.3018, dtype=torch.float64, grad_fn=<DivBackward0>)\n",
            "tensor(0.3018, dtype=torch.float64, grad_fn=<DivBackward0>)\n",
            "tensor(0.3018, dtype=torch.float64, grad_fn=<DivBackward0>)\n",
            "tensor(0.3018, dtype=torch.float64, grad_fn=<DivBackward0>)\n",
            "tensor(0.3018, dtype=torch.float64, grad_fn=<DivBackward0>)\n",
            "tensor(0.3018, dtype=torch.float64, grad_fn=<DivBackward0>)\n",
            "tensor(0.3018, dtype=torch.float64, grad_fn=<DivBackward0>)\n",
            "tensor(0.3018, dtype=torch.float64, grad_fn=<DivBackward0>)\n",
            "tensor(0.3018, dtype=torch.float64, grad_fn=<DivBackward0>)\n",
            "tensor(0.3018, dtype=torch.float64, grad_fn=<DivBackward0>)\n",
            "tensor(0.3018, dtype=torch.float64, grad_fn=<DivBackward0>)\n",
            "tensor(0.3018, dtype=torch.float64, grad_fn=<DivBackward0>)\n",
            "tensor(0.3018, dtype=torch.float64, grad_fn=<DivBackward0>)\n",
            "tensor(0.3018, dtype=torch.float64, grad_fn=<DivBackward0>)\n",
            "tensor(0.3018, dtype=torch.float64, grad_fn=<DivBackward0>)\n",
            "tensor(0.3018, dtype=torch.float64, grad_fn=<DivBackward0>)\n",
            "tensor(0.3018, dtype=torch.float64, grad_fn=<DivBackward0>)\n",
            "tensor(0.3018, dtype=torch.float64, grad_fn=<DivBackward0>)\n",
            "tensor(0.3018, dtype=torch.float64, grad_fn=<DivBackward0>)\n",
            "tensor(0.3018, dtype=torch.float64, grad_fn=<DivBackward0>)\n",
            "tensor(0.3018, dtype=torch.float64, grad_fn=<DivBackward0>)\n",
            "tensor(0.3018, dtype=torch.float64, grad_fn=<DivBackward0>)\n",
            "tensor(0.3018, dtype=torch.float64, grad_fn=<DivBackward0>)\n",
            "tensor(0.3018, dtype=torch.float64, grad_fn=<DivBackward0>)\n",
            "tensor(0.3018, dtype=torch.float64, grad_fn=<DivBackward0>)\n",
            "tensor(0.3018, dtype=torch.float64, grad_fn=<DivBackward0>)\n",
            "tensor(0.3018, dtype=torch.float64, grad_fn=<DivBackward0>)\n",
            "tensor(0.3018, dtype=torch.float64, grad_fn=<DivBackward0>)\n",
            "tensor(0.3018, dtype=torch.float64, grad_fn=<DivBackward0>)\n",
            "tensor(0.3018, dtype=torch.float64, grad_fn=<DivBackward0>)\n",
            "tensor(0.3018, dtype=torch.float64, grad_fn=<DivBackward0>)\n",
            "tensor(0.3018, dtype=torch.float64, grad_fn=<DivBackward0>)\n",
            "tensor(0.3018, dtype=torch.float64, grad_fn=<DivBackward0>)\n"
          ],
          "name": "stdout"
        }
      ]
    },
    {
      "cell_type": "code",
      "metadata": {
        "id": "pFnnJ8aMQO2K",
        "colab": {
          "base_uri": "https://localhost:8080/"
        },
        "outputId": "fd87c92a-2d5f-4007-9bdb-3fe9865e1094"
      },
      "source": [
        "error"
      ],
      "execution_count": 501,
      "outputs": [
        {
          "output_type": "execute_result",
          "data": {
            "text/plain": [
              "tensor(0.3018, dtype=torch.float64, grad_fn=<DivBackward0>)"
            ]
          },
          "metadata": {
            "tags": []
          },
          "execution_count": 501
        }
      ]
    },
    {
      "cell_type": "code",
      "metadata": {
        "id": "i3PMFd9VQZyD",
        "colab": {
          "base_uri": "https://localhost:8080/"
        },
        "outputId": "31740793-3c7f-4b83-a95c-68cda9aeb723"
      },
      "source": [
        "w"
      ],
      "execution_count": 497,
      "outputs": [
        {
          "output_type": "execute_result",
          "data": {
            "text/plain": [
              "tensor([[-0.3004, -0.0836,  0.2550,  0.5295,  0.3258,  0.9929]],\n",
              "       dtype=torch.float64, requires_grad=True)"
            ]
          },
          "metadata": {
            "tags": []
          },
          "execution_count": 497
        }
      ]
    },
    {
      "cell_type": "code",
      "metadata": {
        "colab": {
          "base_uri": "https://localhost:8080/"
        },
        "id": "d7Q_fRFqmlx7",
        "outputId": "a644ee19-cdf9-4b1a-8d89-1143abbc6900"
      },
      "source": [
        "pred"
      ],
      "execution_count": 498,
      "outputs": [
        {
          "output_type": "execute_result",
          "data": {
            "text/plain": [
              "tensor([[13.7333],\n",
              "        [14.1011],\n",
              "        [14.1311],\n",
              "        ...,\n",
              "        [13.4315],\n",
              "        [14.2608],\n",
              "        [14.2075]], dtype=torch.float64, grad_fn=<AddBackward0>)"
            ]
          },
          "metadata": {
            "tags": []
          },
          "execution_count": 498
        }
      ]
    },
    {
      "cell_type": "code",
      "metadata": {
        "colab": {
          "base_uri": "https://localhost:8080/"
        },
        "id": "0GgceDX9nXG1",
        "outputId": "c412e810-5bec-46c0-c8cf-52546dedc815"
      },
      "source": [
        "target"
      ],
      "execution_count": 499,
      "outputs": [
        {
          "output_type": "execute_result",
          "data": {
            "text/plain": [
              "tensor([13.8729, 14.2249, 13.8728,  ..., 13.8458, 13.9967, 14.0771],\n",
              "       dtype=torch.float64)"
            ]
          },
          "metadata": {
            "tags": []
          },
          "execution_count": 499
        }
      ]
    },
    {
      "cell_type": "code",
      "metadata": {
        "id": "aokHF-LxrCgD"
      },
      "source": [
        "pred=torch.exp(pred)"
      ],
      "execution_count": 502,
      "outputs": []
    },
    {
      "cell_type": "code",
      "metadata": {
        "id": "Ak25P7serCvj"
      },
      "source": [
        "target=torch.exp(target)"
      ],
      "execution_count": 503,
      "outputs": []
    },
    {
      "cell_type": "code",
      "metadata": {
        "colab": {
          "base_uri": "https://localhost:8080/"
        },
        "id": "7A060qd2rC8i",
        "outputId": "9b6deaec-9f2a-47c7-e24c-8d5484678f3a"
      },
      "source": [
        "pred"
      ],
      "execution_count": 504,
      "outputs": [
        {
          "output_type": "execute_result",
          "data": {
            "text/plain": [
              "tensor([[ 921097.8297],\n",
              "        [1330558.1835],\n",
              "        [1371089.8278],\n",
              "        ...,\n",
              "        [ 681150.0225],\n",
              "        [1560947.1059],\n",
              "        [1479929.4280]], dtype=torch.float64, grad_fn=<ExpBackward>)"
            ]
          },
          "metadata": {
            "tags": []
          },
          "execution_count": 504
        }
      ]
    },
    {
      "cell_type": "code",
      "metadata": {
        "colab": {
          "base_uri": "https://localhost:8080/"
        },
        "id": "Rm6KETlKrNq6",
        "outputId": "7969dadd-c710-41ca-dc3d-79f8e728bf30"
      },
      "source": [
        "target"
      ],
      "execution_count": 505,
      "outputs": [
        {
          "output_type": "execute_result",
          "data": {
            "text/plain": [
              "tensor([1059033.5579, 1505890.9148, 1058987.9879,  ..., 1030729.5832,\n",
              "        1198656.8724, 1298950.4803], dtype=torch.float64)"
            ]
          },
          "metadata": {
            "tags": []
          },
          "execution_count": 505
        }
      ]
    },
    {
      "cell_type": "markdown",
      "metadata": {
        "id": "4guLAsroridt"
      },
      "source": [
        "The predictions are very similar to target values and the error is also less."
      ]
    },
    {
      "cell_type": "code",
      "metadata": {
        "colab": {
          "base_uri": "https://localhost:8080/"
        },
        "id": "k0iDQ4sgrUAT",
        "outputId": "844494ac-bb4a-4e13-8b26-177a72304053"
      },
      "source": [
        "print(torch.exp(error))"
      ],
      "execution_count": 508,
      "outputs": [
        {
          "output_type": "stream",
          "text": [
            "tensor(3.8664, dtype=torch.float64, grad_fn=<ExpBackward>)\n"
          ],
          "name": "stdout"
        }
      ]
    },
    {
      "cell_type": "code",
      "metadata": {
        "id": "b8Mq5zgZo6xJ"
      },
      "source": [
        "new=prediction(torch.tensor([[23,14,25,78.9,56,12]],dtype=torch.float64))"
      ],
      "execution_count": 514,
      "outputs": []
    },
    {
      "cell_type": "code",
      "metadata": {
        "colab": {
          "base_uri": "https://localhost:8080/"
        },
        "id": "GAT16tGQsIqt",
        "outputId": "c1193af1-4ebc-4085-d10a-fe67c3f9183f"
      },
      "source": [
        "print(new)"
      ],
      "execution_count": 516,
      "outputs": [
        {
          "output_type": "stream",
          "text": [
            "tensor([[69.2135]], dtype=torch.float64, grad_fn=<AddBackward0>)\n"
          ],
          "name": "stdout"
        }
      ]
    },
    {
      "cell_type": "code",
      "metadata": {
        "colab": {
          "base_uri": "https://localhost:8080/",
          "height": 103
        },
        "id": "NHA9tians7cd",
        "outputId": "eb9df5da-3c81-4a54-a3dd-f87681b6b337"
      },
      "source": [
        "jovian.commit(project='linear-regression')"
      ],
      "execution_count": 517,
      "outputs": [
        {
          "output_type": "stream",
          "text": [
            "[jovian] Detected Colab notebook...\u001b[0m\n",
            "[jovian] Uploading colab notebook to Jovian...\u001b[0m\n",
            "[jovian] Capturing environment..\u001b[0m\n",
            "[jovian] Committed successfully! https://jovian.ai/rhuthuhegde/linear-regression\u001b[0m\n"
          ],
          "name": "stdout"
        },
        {
          "output_type": "execute_result",
          "data": {
            "application/vnd.google.colaboratory.intrinsic+json": {
              "type": "string"
            },
            "text/plain": [
              "'https://jovian.ai/rhuthuhegde/linear-regression'"
            ]
          },
          "metadata": {
            "tags": []
          },
          "execution_count": 517
        }
      ]
    },
    {
      "cell_type": "code",
      "metadata": {
        "id": "oG4bVoAwtGJL"
      },
      "source": [
        ""
      ],
      "execution_count": null,
      "outputs": []
    }
  ]
}